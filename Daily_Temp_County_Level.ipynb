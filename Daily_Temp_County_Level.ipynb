{
 "cells": [
  {
   "cell_type": "code",
   "execution_count": 1,
   "id": "73f017c2-111a-4c90-be57-0582090b1fe4",
   "metadata": {},
   "outputs": [],
   "source": [
    "import pandas as pd\n",
    "import numpy as np\n",
    "import matplotlib.pyplot as plt\n",
    "import dask.dataframe as ddf\n",
    "from pandas import Series, DataFrame\n",
    "%matplotlib inline"
   ]
  },
  {
   "cell_type": "code",
   "execution_count": 2,
   "id": "4295cbe2-6150-44a6-b0d9-b87708cb14c1",
   "metadata": {},
   "outputs": [],
   "source": [
    "import seaborn as sn\n",
    "import plotly.express as px"
   ]
  },
  {
   "cell_type": "markdown",
   "id": "b9a5cb0f-1a52-4c9b-b092-d7919af8a21d",
   "metadata": {},
   "source": [
    "## uploading daily temperatures "
   ]
  },
  {
   "cell_type": "code",
   "execution_count": 3,
   "id": "d42b808a-d5e3-4d5f-a2d1-a21fd9ebf1db",
   "metadata": {},
   "outputs": [],
   "source": [
    "years = ['2000', '2001', '2002', '2003', '2004','2005', '2006', '2007', '2008']"
   ]
  },
  {
   "cell_type": "code",
   "execution_count": 4,
   "id": "34a23b2e-35d1-42f2-9119-d170b189e8ee",
   "metadata": {},
   "outputs": [
    {
     "name": "stderr",
     "output_type": "stream",
     "text": [
      "/global/homes/w/wenhuan/.conda/envs/myenv/lib/python3.7/site-packages/dask/dataframe/io/csv.py:134: DtypeWarning: Columns (4) have mixed types.Specify dtype option on import or set low_memory=False.\n",
      "  path_info,\n"
     ]
    }
   ],
   "source": [
    "frames = []\n",
    "for year in years:\n",
    "    ur_files = ddf.read_csv('DailyTemp/DailyTemp_' + year + '.csv', dtype = {'fips': str, 'STATION': 'object'})\n",
    "    temp = ur_files.compute()\n",
    "    temp = temp.loc[:, ~temp.columns.str.contains('^Unnamed')]\n",
    "    temp['year'] = year\n",
    "    frames.append(temp)"
   ]
  },
  {
   "cell_type": "code",
   "execution_count": 5,
   "id": "5ae25202-c279-46a3-a2dc-3f963a4da59f",
   "metadata": {},
   "outputs": [],
   "source": [
    "temp = pd.concat(frames)"
   ]
  },
  {
   "cell_type": "code",
   "execution_count": 6,
   "id": "d44cdd42-d9e0-4683-b4b5-e22b1fb1234e",
   "metadata": {},
   "outputs": [
    {
     "data": {
      "text/html": [
       "<div>\n",
       "<style scoped>\n",
       "    .dataframe tbody tr th:only-of-type {\n",
       "        vertical-align: middle;\n",
       "    }\n",
       "\n",
       "    .dataframe tbody tr th {\n",
       "        vertical-align: top;\n",
       "    }\n",
       "\n",
       "    .dataframe thead th {\n",
       "        text-align: right;\n",
       "    }\n",
       "</style>\n",
       "<table border=\"1\" class=\"dataframe\">\n",
       "  <thead>\n",
       "    <tr style=\"text-align: right;\">\n",
       "      <th></th>\n",
       "      <th>STATION</th>\n",
       "      <th>LATITUDE</th>\n",
       "      <th>LONGITUDE</th>\n",
       "      <th>NAME</th>\n",
       "      <th>YEAR</th>\n",
       "      <th>DATE</th>\n",
       "      <th>TEMP</th>\n",
       "      <th>MIN</th>\n",
       "      <th>MAX</th>\n",
       "      <th>year</th>\n",
       "    </tr>\n",
       "  </thead>\n",
       "  <tbody>\n",
       "    <tr>\n",
       "      <th>0</th>\n",
       "      <td>1001099999</td>\n",
       "      <td>70.933333</td>\n",
       "      <td>-8.666667</td>\n",
       "      <td>JAN MAYEN NOR NAVY, NO</td>\n",
       "      <td>2000</td>\n",
       "      <td>2000-01-01</td>\n",
       "      <td>31.4</td>\n",
       "      <td>27.3</td>\n",
       "      <td>34.2</td>\n",
       "      <td>2000</td>\n",
       "    </tr>\n",
       "    <tr>\n",
       "      <th>1</th>\n",
       "      <td>1001099999</td>\n",
       "      <td>70.933333</td>\n",
       "      <td>-8.666667</td>\n",
       "      <td>JAN MAYEN NOR NAVY, NO</td>\n",
       "      <td>2000</td>\n",
       "      <td>2000-01-02</td>\n",
       "      <td>29.0</td>\n",
       "      <td>26.8</td>\n",
       "      <td>30.4</td>\n",
       "      <td>2000</td>\n",
       "    </tr>\n",
       "    <tr>\n",
       "      <th>2</th>\n",
       "      <td>1001099999</td>\n",
       "      <td>70.933333</td>\n",
       "      <td>-8.666667</td>\n",
       "      <td>JAN MAYEN NOR NAVY, NO</td>\n",
       "      <td>2000</td>\n",
       "      <td>2000-01-03</td>\n",
       "      <td>28.1</td>\n",
       "      <td>26.8</td>\n",
       "      <td>30.2</td>\n",
       "      <td>2000</td>\n",
       "    </tr>\n",
       "    <tr>\n",
       "      <th>3</th>\n",
       "      <td>1001099999</td>\n",
       "      <td>70.933333</td>\n",
       "      <td>-8.666667</td>\n",
       "      <td>JAN MAYEN NOR NAVY, NO</td>\n",
       "      <td>2000</td>\n",
       "      <td>2000-01-04</td>\n",
       "      <td>27.7</td>\n",
       "      <td>26.6</td>\n",
       "      <td>29.5</td>\n",
       "      <td>2000</td>\n",
       "    </tr>\n",
       "    <tr>\n",
       "      <th>4</th>\n",
       "      <td>1001099999</td>\n",
       "      <td>70.933333</td>\n",
       "      <td>-8.666667</td>\n",
       "      <td>JAN MAYEN NOR NAVY, NO</td>\n",
       "      <td>2000</td>\n",
       "      <td>2000-01-05</td>\n",
       "      <td>28.2</td>\n",
       "      <td>23.4</td>\n",
       "      <td>30.4</td>\n",
       "      <td>2000</td>\n",
       "    </tr>\n",
       "  </tbody>\n",
       "</table>\n",
       "</div>"
      ],
      "text/plain": [
       "      STATION   LATITUDE  LONGITUDE                    NAME  YEAR        DATE  \\\n",
       "0  1001099999  70.933333  -8.666667  JAN MAYEN NOR NAVY, NO  2000  2000-01-01   \n",
       "1  1001099999  70.933333  -8.666667  JAN MAYEN NOR NAVY, NO  2000  2000-01-02   \n",
       "2  1001099999  70.933333  -8.666667  JAN MAYEN NOR NAVY, NO  2000  2000-01-03   \n",
       "3  1001099999  70.933333  -8.666667  JAN MAYEN NOR NAVY, NO  2000  2000-01-04   \n",
       "4  1001099999  70.933333  -8.666667  JAN MAYEN NOR NAVY, NO  2000  2000-01-05   \n",
       "\n",
       "   TEMP   MIN   MAX  year  \n",
       "0  31.4  27.3  34.2  2000  \n",
       "1  29.0  26.8  30.4  2000  \n",
       "2  28.1  26.8  30.2  2000  \n",
       "3  27.7  26.6  29.5  2000  \n",
       "4  28.2  23.4  30.4  2000  "
      ]
     },
     "execution_count": 6,
     "metadata": {},
     "output_type": "execute_result"
    }
   ],
   "source": [
    "temp.head()"
   ]
  },
  {
   "cell_type": "code",
   "execution_count": 7,
   "id": "18185285-b8eb-48a0-bb1f-b07aea24648a",
   "metadata": {},
   "outputs": [
    {
     "data": {
      "text/plain": [
       "(26615983, 10)"
      ]
     },
     "execution_count": 7,
     "metadata": {},
     "output_type": "execute_result"
    }
   ],
   "source": [
    "temp.shape"
   ]
  },
  {
   "cell_type": "markdown",
   "id": "c20c5bb0-ca8e-4f80-b6d8-37d6b14ad473",
   "metadata": {},
   "source": [
    "### uploading temp_station data"
   ]
  },
  {
   "cell_type": "code",
   "execution_count": 8,
   "id": "8fefade0-0c13-4f5f-8147-1d08375703f7",
   "metadata": {},
   "outputs": [],
   "source": [
    "frames = []\n",
    "for year in years:\n",
    "    ur_files = ddf.read_csv('temp_station/temp_station_' + year + '.csv', dtype = {'STATEFP': str, 'COUNTYFP': str, 'TRACTCE': 'object', 'station': str})\n",
    "    temp_station = ur_files.compute()\n",
    "    temp_station = temp_station.loc[:, ~temp_station.columns.str.contains('^Unnamed')]\n",
    "    frames.append(temp_station)"
   ]
  },
  {
   "cell_type": "code",
   "execution_count": 9,
   "id": "8453904d-539b-4664-ae2c-66a71e543575",
   "metadata": {},
   "outputs": [
    {
     "data": {
      "text/html": [
       "<div>\n",
       "<style scoped>\n",
       "    .dataframe tbody tr th:only-of-type {\n",
       "        vertical-align: middle;\n",
       "    }\n",
       "\n",
       "    .dataframe tbody tr th {\n",
       "        vertical-align: top;\n",
       "    }\n",
       "\n",
       "    .dataframe thead th {\n",
       "        text-align: right;\n",
       "    }\n",
       "</style>\n",
       "<table border=\"1\" class=\"dataframe\">\n",
       "  <thead>\n",
       "    <tr style=\"text-align: right;\">\n",
       "      <th></th>\n",
       "      <th>STATEFP</th>\n",
       "      <th>COUNTYFP</th>\n",
       "      <th>TRACTCE</th>\n",
       "      <th>station</th>\n",
       "      <th>year</th>\n",
       "    </tr>\n",
       "  </thead>\n",
       "  <tbody>\n",
       "    <tr>\n",
       "      <th>0</th>\n",
       "      <td>13</td>\n",
       "      <td>163</td>\n",
       "      <td>960300</td>\n",
       "      <td>72218003820</td>\n",
       "      <td>2000.0</td>\n",
       "    </tr>\n",
       "    <tr>\n",
       "      <th>1</th>\n",
       "      <td>37</td>\n",
       "      <td>109</td>\n",
       "      <td>071201</td>\n",
       "      <td>72314013881</td>\n",
       "      <td>2000.0</td>\n",
       "    </tr>\n",
       "    <tr>\n",
       "      <th>2</th>\n",
       "      <td>25</td>\n",
       "      <td>025</td>\n",
       "      <td>050200</td>\n",
       "      <td>72509014739</td>\n",
       "      <td>2000.0</td>\n",
       "    </tr>\n",
       "    <tr>\n",
       "      <th>3</th>\n",
       "      <td>17</td>\n",
       "      <td>031</td>\n",
       "      <td>230200</td>\n",
       "      <td>72534699999</td>\n",
       "      <td>2000.0</td>\n",
       "    </tr>\n",
       "    <tr>\n",
       "      <th>4</th>\n",
       "      <td>41</td>\n",
       "      <td>047</td>\n",
       "      <td>001607</td>\n",
       "      <td>72694024232</td>\n",
       "      <td>2000.0</td>\n",
       "    </tr>\n",
       "  </tbody>\n",
       "</table>\n",
       "</div>"
      ],
      "text/plain": [
       "  STATEFP COUNTYFP TRACTCE      station    year\n",
       "0      13      163  960300  72218003820  2000.0\n",
       "1      37      109  071201  72314013881  2000.0\n",
       "2      25      025  050200  72509014739  2000.0\n",
       "3      17      031  230200  72534699999  2000.0\n",
       "4      41      047  001607  72694024232  2000.0"
      ]
     },
     "execution_count": 9,
     "metadata": {},
     "output_type": "execute_result"
    }
   ],
   "source": [
    "temp_station = pd.concat(frames)\n",
    "temp_station.head()"
   ]
  },
  {
   "cell_type": "code",
   "execution_count": 10,
   "id": "3a630581-3e01-4f29-8712-399d954cb4d2",
   "metadata": {},
   "outputs": [
    {
     "data": {
      "text/plain": [
       "(767070, 5)"
      ]
     },
     "execution_count": 10,
     "metadata": {},
     "output_type": "execute_result"
    }
   ],
   "source": [
    "temp_station.shape"
   ]
  },
  {
   "cell_type": "code",
   "execution_count": 11,
   "id": "a773653e-762a-48ad-b6d0-cb4d84cf81d8",
   "metadata": {},
   "outputs": [
    {
     "data": {
      "text/plain": [
       "(749209, 5)"
      ]
     },
     "execution_count": 11,
     "metadata": {},
     "output_type": "execute_result"
    }
   ],
   "source": [
    "temp_station = temp_station.dropna()\n",
    "temp_station.shape"
   ]
  },
  {
   "cell_type": "code",
   "execution_count": 12,
   "id": "efd56161-5e2c-4aa6-81cb-f8d42b53826e",
   "metadata": {},
   "outputs": [
    {
     "data": {
      "text/plain": [
       "dtype('int64')"
      ]
     },
     "execution_count": 12,
     "metadata": {},
     "output_type": "execute_result"
    }
   ],
   "source": [
    "temp_station['year'] = temp_station['year'].astype(int)\n",
    "temp_station['year'].dtype"
   ]
  },
  {
   "cell_type": "code",
   "execution_count": 13,
   "id": "312fdc85-e08d-48f1-8f21-33e174a81995",
   "metadata": {},
   "outputs": [
    {
     "data": {
      "text/plain": [
       "(749209, 5)"
      ]
     },
     "execution_count": 13,
     "metadata": {},
     "output_type": "execute_result"
    }
   ],
   "source": [
    "temp_station.shape"
   ]
  },
  {
   "cell_type": "markdown",
   "id": "83704449-a8f2-48f9-997c-2829f2631981",
   "metadata": {},
   "source": [
    "### Merge temp_station and temperature data"
   ]
  },
  {
   "cell_type": "code",
   "execution_count": 14,
   "id": "e5fef034-fde6-4578-b997-b02d9f185004",
   "metadata": {},
   "outputs": [],
   "source": [
    "temp = temp.rename(columns = {'STATION': 'station'})"
   ]
  },
  {
   "cell_type": "code",
   "execution_count": 15,
   "id": "f1ad89ca-b361-4378-a7b6-3fb2e9112970",
   "metadata": {},
   "outputs": [],
   "source": [
    "temp['year'] = temp['year'].astype(int)"
   ]
  },
  {
   "cell_type": "code",
   "execution_count": 16,
   "id": "cefdda6d-f816-4975-929e-78ee928395cf",
   "metadata": {},
   "outputs": [
    {
     "data": {
      "text/html": [
       "<div>\n",
       "<style scoped>\n",
       "    .dataframe tbody tr th:only-of-type {\n",
       "        vertical-align: middle;\n",
       "    }\n",
       "\n",
       "    .dataframe tbody tr th {\n",
       "        vertical-align: top;\n",
       "    }\n",
       "\n",
       "    .dataframe thead th {\n",
       "        text-align: right;\n",
       "    }\n",
       "</style>\n",
       "<table border=\"1\" class=\"dataframe\">\n",
       "  <thead>\n",
       "    <tr style=\"text-align: right;\">\n",
       "      <th></th>\n",
       "      <th>station</th>\n",
       "      <th>LATITUDE</th>\n",
       "      <th>LONGITUDE</th>\n",
       "      <th>NAME</th>\n",
       "      <th>YEAR</th>\n",
       "      <th>DATE</th>\n",
       "      <th>TEMP</th>\n",
       "      <th>MIN</th>\n",
       "      <th>MAX</th>\n",
       "      <th>year</th>\n",
       "    </tr>\n",
       "  </thead>\n",
       "  <tbody>\n",
       "    <tr>\n",
       "      <th>0</th>\n",
       "      <td>1001099999</td>\n",
       "      <td>70.933333</td>\n",
       "      <td>-8.666667</td>\n",
       "      <td>JAN MAYEN NOR NAVY, NO</td>\n",
       "      <td>2000</td>\n",
       "      <td>2000-01-01</td>\n",
       "      <td>31.4</td>\n",
       "      <td>27.3</td>\n",
       "      <td>34.2</td>\n",
       "      <td>2000</td>\n",
       "    </tr>\n",
       "    <tr>\n",
       "      <th>1</th>\n",
       "      <td>1001099999</td>\n",
       "      <td>70.933333</td>\n",
       "      <td>-8.666667</td>\n",
       "      <td>JAN MAYEN NOR NAVY, NO</td>\n",
       "      <td>2000</td>\n",
       "      <td>2000-01-02</td>\n",
       "      <td>29.0</td>\n",
       "      <td>26.8</td>\n",
       "      <td>30.4</td>\n",
       "      <td>2000</td>\n",
       "    </tr>\n",
       "    <tr>\n",
       "      <th>2</th>\n",
       "      <td>1001099999</td>\n",
       "      <td>70.933333</td>\n",
       "      <td>-8.666667</td>\n",
       "      <td>JAN MAYEN NOR NAVY, NO</td>\n",
       "      <td>2000</td>\n",
       "      <td>2000-01-03</td>\n",
       "      <td>28.1</td>\n",
       "      <td>26.8</td>\n",
       "      <td>30.2</td>\n",
       "      <td>2000</td>\n",
       "    </tr>\n",
       "    <tr>\n",
       "      <th>3</th>\n",
       "      <td>1001099999</td>\n",
       "      <td>70.933333</td>\n",
       "      <td>-8.666667</td>\n",
       "      <td>JAN MAYEN NOR NAVY, NO</td>\n",
       "      <td>2000</td>\n",
       "      <td>2000-01-04</td>\n",
       "      <td>27.7</td>\n",
       "      <td>26.6</td>\n",
       "      <td>29.5</td>\n",
       "      <td>2000</td>\n",
       "    </tr>\n",
       "    <tr>\n",
       "      <th>4</th>\n",
       "      <td>1001099999</td>\n",
       "      <td>70.933333</td>\n",
       "      <td>-8.666667</td>\n",
       "      <td>JAN MAYEN NOR NAVY, NO</td>\n",
       "      <td>2000</td>\n",
       "      <td>2000-01-05</td>\n",
       "      <td>28.2</td>\n",
       "      <td>23.4</td>\n",
       "      <td>30.4</td>\n",
       "      <td>2000</td>\n",
       "    </tr>\n",
       "  </tbody>\n",
       "</table>\n",
       "</div>"
      ],
      "text/plain": [
       "      station   LATITUDE  LONGITUDE                    NAME  YEAR        DATE  \\\n",
       "0  1001099999  70.933333  -8.666667  JAN MAYEN NOR NAVY, NO  2000  2000-01-01   \n",
       "1  1001099999  70.933333  -8.666667  JAN MAYEN NOR NAVY, NO  2000  2000-01-02   \n",
       "2  1001099999  70.933333  -8.666667  JAN MAYEN NOR NAVY, NO  2000  2000-01-03   \n",
       "3  1001099999  70.933333  -8.666667  JAN MAYEN NOR NAVY, NO  2000  2000-01-04   \n",
       "4  1001099999  70.933333  -8.666667  JAN MAYEN NOR NAVY, NO  2000  2000-01-05   \n",
       "\n",
       "   TEMP   MIN   MAX  year  \n",
       "0  31.4  27.3  34.2  2000  \n",
       "1  29.0  26.8  30.4  2000  \n",
       "2  28.1  26.8  30.2  2000  \n",
       "3  27.7  26.6  29.5  2000  \n",
       "4  28.2  23.4  30.4  2000  "
      ]
     },
     "execution_count": 16,
     "metadata": {},
     "output_type": "execute_result"
    }
   ],
   "source": [
    "temp.head()"
   ]
  },
  {
   "cell_type": "code",
   "execution_count": 17,
   "id": "7b8e842c-f7b4-4c5c-a6d8-bebe165f9c1b",
   "metadata": {},
   "outputs": [
    {
     "data": {
      "text/html": [
       "<div>\n",
       "<style scoped>\n",
       "    .dataframe tbody tr th:only-of-type {\n",
       "        vertical-align: middle;\n",
       "    }\n",
       "\n",
       "    .dataframe tbody tr th {\n",
       "        vertical-align: top;\n",
       "    }\n",
       "\n",
       "    .dataframe thead th {\n",
       "        text-align: right;\n",
       "    }\n",
       "</style>\n",
       "<table border=\"1\" class=\"dataframe\">\n",
       "  <thead>\n",
       "    <tr style=\"text-align: right;\">\n",
       "      <th></th>\n",
       "      <th>STATEFP</th>\n",
       "      <th>COUNTYFP</th>\n",
       "      <th>TRACTCE</th>\n",
       "      <th>station</th>\n",
       "      <th>year</th>\n",
       "    </tr>\n",
       "  </thead>\n",
       "  <tbody>\n",
       "    <tr>\n",
       "      <th>0</th>\n",
       "      <td>13</td>\n",
       "      <td>163</td>\n",
       "      <td>960300</td>\n",
       "      <td>72218003820</td>\n",
       "      <td>2000</td>\n",
       "    </tr>\n",
       "    <tr>\n",
       "      <th>1</th>\n",
       "      <td>37</td>\n",
       "      <td>109</td>\n",
       "      <td>071201</td>\n",
       "      <td>72314013881</td>\n",
       "      <td>2000</td>\n",
       "    </tr>\n",
       "    <tr>\n",
       "      <th>2</th>\n",
       "      <td>25</td>\n",
       "      <td>025</td>\n",
       "      <td>050200</td>\n",
       "      <td>72509014739</td>\n",
       "      <td>2000</td>\n",
       "    </tr>\n",
       "    <tr>\n",
       "      <th>3</th>\n",
       "      <td>17</td>\n",
       "      <td>031</td>\n",
       "      <td>230200</td>\n",
       "      <td>72534699999</td>\n",
       "      <td>2000</td>\n",
       "    </tr>\n",
       "    <tr>\n",
       "      <th>4</th>\n",
       "      <td>41</td>\n",
       "      <td>047</td>\n",
       "      <td>001607</td>\n",
       "      <td>72694024232</td>\n",
       "      <td>2000</td>\n",
       "    </tr>\n",
       "  </tbody>\n",
       "</table>\n",
       "</div>"
      ],
      "text/plain": [
       "  STATEFP COUNTYFP TRACTCE      station  year\n",
       "0      13      163  960300  72218003820  2000\n",
       "1      37      109  071201  72314013881  2000\n",
       "2      25      025  050200  72509014739  2000\n",
       "3      17      031  230200  72534699999  2000\n",
       "4      41      047  001607  72694024232  2000"
      ]
     },
     "execution_count": 17,
     "metadata": {},
     "output_type": "execute_result"
    }
   ],
   "source": [
    "temp_station.head()"
   ]
  },
  {
   "cell_type": "code",
   "execution_count": 18,
   "id": "e9c2dd84-38f7-4793-9862-270104548ff5",
   "metadata": {},
   "outputs": [
    {
     "data": {
      "text/plain": [
       "dtype('O')"
      ]
     },
     "execution_count": 18,
     "metadata": {},
     "output_type": "execute_result"
    }
   ],
   "source": [
    "temp['station'].dtype"
   ]
  },
  {
   "cell_type": "code",
   "execution_count": 19,
   "id": "97d24817-c58d-4025-83f2-e8f6b46984b0",
   "metadata": {},
   "outputs": [
    {
     "data": {
      "text/plain": [
       "dtype('O')"
      ]
     },
     "execution_count": 19,
     "metadata": {},
     "output_type": "execute_result"
    }
   ],
   "source": [
    "temp_station['station'].dtype"
   ]
  },
  {
   "cell_type": "code",
   "execution_count": 20,
   "id": "b464f777-a1e2-48bb-8090-ad35f5b22469",
   "metadata": {},
   "outputs": [
    {
     "data": {
      "text/plain": [
       "dtype('int64')"
      ]
     },
     "execution_count": 20,
     "metadata": {},
     "output_type": "execute_result"
    }
   ],
   "source": [
    "temp['year'].dtype"
   ]
  },
  {
   "cell_type": "code",
   "execution_count": 21,
   "id": "e02b5759-2c9c-4d16-b050-528497e22a7f",
   "metadata": {},
   "outputs": [
    {
     "data": {
      "text/plain": [
       "dtype('int64')"
      ]
     },
     "execution_count": 21,
     "metadata": {},
     "output_type": "execute_result"
    }
   ],
   "source": [
    "temp_station['year'].dtype"
   ]
  },
  {
   "cell_type": "markdown",
   "id": "e3380d1a-5e89-4a94-b7ca-e66fcad9c1dc",
   "metadata": {},
   "source": [
    "## 2000"
   ]
  },
  {
   "cell_type": "code",
   "execution_count": 22,
   "id": "ed6a369c-57ef-4239-8a85-58ab2bd3e16f",
   "metadata": {},
   "outputs": [],
   "source": [
    "temp_2000 = temp[temp['year'] == 2000]\n",
    "temp_station_2000 = temp_station[temp_station['year'] == 2000]"
   ]
  },
  {
   "cell_type": "code",
   "execution_count": 23,
   "id": "060be6d8-fc13-494a-815d-d1fe06c6911b",
   "metadata": {},
   "outputs": [
    {
     "data": {
      "text/plain": [
       "(2546974, 10)"
      ]
     },
     "execution_count": 23,
     "metadata": {},
     "output_type": "execute_result"
    }
   ],
   "source": [
    "temp_2000.shape"
   ]
  },
  {
   "cell_type": "code",
   "execution_count": 24,
   "id": "898c650e-1353-4ba9-85ba-de8fe9b03f74",
   "metadata": {},
   "outputs": [
    {
     "data": {
      "text/plain": [
       "(82143, 5)"
      ]
     },
     "execution_count": 24,
     "metadata": {},
     "output_type": "execute_result"
    }
   ],
   "source": [
    "temp_station_2000.shape"
   ]
  },
  {
   "cell_type": "code",
   "execution_count": 25,
   "id": "63a648c0-cbd4-47cb-ac02-0e96852cca30",
   "metadata": {},
   "outputs": [
    {
     "data": {
      "text/html": [
       "<div>\n",
       "<style scoped>\n",
       "    .dataframe tbody tr th:only-of-type {\n",
       "        vertical-align: middle;\n",
       "    }\n",
       "\n",
       "    .dataframe tbody tr th {\n",
       "        vertical-align: top;\n",
       "    }\n",
       "\n",
       "    .dataframe thead th {\n",
       "        text-align: right;\n",
       "    }\n",
       "</style>\n",
       "<table border=\"1\" class=\"dataframe\">\n",
       "  <thead>\n",
       "    <tr style=\"text-align: right;\">\n",
       "      <th></th>\n",
       "      <th>station</th>\n",
       "      <th>LATITUDE</th>\n",
       "      <th>LONGITUDE</th>\n",
       "      <th>NAME</th>\n",
       "      <th>YEAR</th>\n",
       "      <th>DATE</th>\n",
       "      <th>TEMP</th>\n",
       "      <th>MIN</th>\n",
       "      <th>MAX</th>\n",
       "      <th>year</th>\n",
       "      <th>STATEFP</th>\n",
       "      <th>COUNTYFP</th>\n",
       "      <th>TRACTCE</th>\n",
       "    </tr>\n",
       "  </thead>\n",
       "  <tbody>\n",
       "    <tr>\n",
       "      <th>0</th>\n",
       "      <td>1001099999</td>\n",
       "      <td>70.933333</td>\n",
       "      <td>-8.666667</td>\n",
       "      <td>JAN MAYEN NOR NAVY, NO</td>\n",
       "      <td>2000</td>\n",
       "      <td>2000-01-01</td>\n",
       "      <td>31.4</td>\n",
       "      <td>27.3</td>\n",
       "      <td>34.2</td>\n",
       "      <td>2000</td>\n",
       "      <td>NaN</td>\n",
       "      <td>NaN</td>\n",
       "      <td>NaN</td>\n",
       "    </tr>\n",
       "    <tr>\n",
       "      <th>1</th>\n",
       "      <td>1001099999</td>\n",
       "      <td>70.933333</td>\n",
       "      <td>-8.666667</td>\n",
       "      <td>JAN MAYEN NOR NAVY, NO</td>\n",
       "      <td>2000</td>\n",
       "      <td>2000-01-02</td>\n",
       "      <td>29.0</td>\n",
       "      <td>26.8</td>\n",
       "      <td>30.4</td>\n",
       "      <td>2000</td>\n",
       "      <td>NaN</td>\n",
       "      <td>NaN</td>\n",
       "      <td>NaN</td>\n",
       "    </tr>\n",
       "    <tr>\n",
       "      <th>2</th>\n",
       "      <td>1001099999</td>\n",
       "      <td>70.933333</td>\n",
       "      <td>-8.666667</td>\n",
       "      <td>JAN MAYEN NOR NAVY, NO</td>\n",
       "      <td>2000</td>\n",
       "      <td>2000-01-03</td>\n",
       "      <td>28.1</td>\n",
       "      <td>26.8</td>\n",
       "      <td>30.2</td>\n",
       "      <td>2000</td>\n",
       "      <td>NaN</td>\n",
       "      <td>NaN</td>\n",
       "      <td>NaN</td>\n",
       "    </tr>\n",
       "    <tr>\n",
       "      <th>3</th>\n",
       "      <td>1001099999</td>\n",
       "      <td>70.933333</td>\n",
       "      <td>-8.666667</td>\n",
       "      <td>JAN MAYEN NOR NAVY, NO</td>\n",
       "      <td>2000</td>\n",
       "      <td>2000-01-04</td>\n",
       "      <td>27.7</td>\n",
       "      <td>26.6</td>\n",
       "      <td>29.5</td>\n",
       "      <td>2000</td>\n",
       "      <td>NaN</td>\n",
       "      <td>NaN</td>\n",
       "      <td>NaN</td>\n",
       "    </tr>\n",
       "    <tr>\n",
       "      <th>4</th>\n",
       "      <td>1001099999</td>\n",
       "      <td>70.933333</td>\n",
       "      <td>-8.666667</td>\n",
       "      <td>JAN MAYEN NOR NAVY, NO</td>\n",
       "      <td>2000</td>\n",
       "      <td>2000-01-05</td>\n",
       "      <td>28.2</td>\n",
       "      <td>23.4</td>\n",
       "      <td>30.4</td>\n",
       "      <td>2000</td>\n",
       "      <td>NaN</td>\n",
       "      <td>NaN</td>\n",
       "      <td>NaN</td>\n",
       "    </tr>\n",
       "  </tbody>\n",
       "</table>\n",
       "</div>"
      ],
      "text/plain": [
       "      station   LATITUDE  LONGITUDE                    NAME  YEAR        DATE  \\\n",
       "0  1001099999  70.933333  -8.666667  JAN MAYEN NOR NAVY, NO  2000  2000-01-01   \n",
       "1  1001099999  70.933333  -8.666667  JAN MAYEN NOR NAVY, NO  2000  2000-01-02   \n",
       "2  1001099999  70.933333  -8.666667  JAN MAYEN NOR NAVY, NO  2000  2000-01-03   \n",
       "3  1001099999  70.933333  -8.666667  JAN MAYEN NOR NAVY, NO  2000  2000-01-04   \n",
       "4  1001099999  70.933333  -8.666667  JAN MAYEN NOR NAVY, NO  2000  2000-01-05   \n",
       "\n",
       "   TEMP   MIN   MAX  year STATEFP COUNTYFP TRACTCE  \n",
       "0  31.4  27.3  34.2  2000     NaN      NaN     NaN  \n",
       "1  29.0  26.8  30.4  2000     NaN      NaN     NaN  \n",
       "2  28.1  26.8  30.2  2000     NaN      NaN     NaN  \n",
       "3  27.7  26.6  29.5  2000     NaN      NaN     NaN  \n",
       "4  28.2  23.4  30.4  2000     NaN      NaN     NaN  "
      ]
     },
     "execution_count": 25,
     "metadata": {},
     "output_type": "execute_result"
    }
   ],
   "source": [
    "temp_station_2000 = temp_2000.merge(temp_station_2000, on = ['station', 'year'], how = 'left')\n",
    "temp_station_2000.head()"
   ]
  },
  {
   "cell_type": "code",
   "execution_count": 26,
   "id": "25f7cb8e-cfd9-4341-8574-45c2b751553d",
   "metadata": {},
   "outputs": [
    {
     "data": {
      "text/html": [
       "<div>\n",
       "<style scoped>\n",
       "    .dataframe tbody tr th:only-of-type {\n",
       "        vertical-align: middle;\n",
       "    }\n",
       "\n",
       "    .dataframe tbody tr th {\n",
       "        vertical-align: top;\n",
       "    }\n",
       "\n",
       "    .dataframe thead th {\n",
       "        text-align: right;\n",
       "    }\n",
       "</style>\n",
       "<table border=\"1\" class=\"dataframe\">\n",
       "  <thead>\n",
       "    <tr style=\"text-align: right;\">\n",
       "      <th></th>\n",
       "      <th>station</th>\n",
       "      <th>LATITUDE</th>\n",
       "      <th>LONGITUDE</th>\n",
       "      <th>NAME</th>\n",
       "      <th>YEAR</th>\n",
       "      <th>DATE</th>\n",
       "      <th>TEMP</th>\n",
       "      <th>MIN</th>\n",
       "      <th>MAX</th>\n",
       "      <th>year</th>\n",
       "      <th>STATEFP</th>\n",
       "      <th>COUNTYFP</th>\n",
       "      <th>TRACTCE</th>\n",
       "    </tr>\n",
       "  </thead>\n",
       "  <tbody>\n",
       "    <tr>\n",
       "      <th>1397981</th>\n",
       "      <td>69015093121</td>\n",
       "      <td>34.3</td>\n",
       "      <td>-116.16667</td>\n",
       "      <td>TWENTYNINE PALMS MC, CA US</td>\n",
       "      <td>2000</td>\n",
       "      <td>2000-01-03</td>\n",
       "      <td>48.2</td>\n",
       "      <td>35.6</td>\n",
       "      <td>55.4</td>\n",
       "      <td>2000</td>\n",
       "      <td>06</td>\n",
       "      <td>071</td>\n",
       "      <td>010434</td>\n",
       "    </tr>\n",
       "    <tr>\n",
       "      <th>1397982</th>\n",
       "      <td>69015093121</td>\n",
       "      <td>34.3</td>\n",
       "      <td>-116.16667</td>\n",
       "      <td>TWENTYNINE PALMS MC, CA US</td>\n",
       "      <td>2000</td>\n",
       "      <td>2000-01-03</td>\n",
       "      <td>48.2</td>\n",
       "      <td>35.6</td>\n",
       "      <td>55.4</td>\n",
       "      <td>2000</td>\n",
       "      <td>06</td>\n",
       "      <td>071</td>\n",
       "      <td>010433</td>\n",
       "    </tr>\n",
       "    <tr>\n",
       "      <th>1397983</th>\n",
       "      <td>69015093121</td>\n",
       "      <td>34.3</td>\n",
       "      <td>-116.16667</td>\n",
       "      <td>TWENTYNINE PALMS MC, CA US</td>\n",
       "      <td>2000</td>\n",
       "      <td>2000-01-03</td>\n",
       "      <td>48.2</td>\n",
       "      <td>35.6</td>\n",
       "      <td>55.4</td>\n",
       "      <td>2000</td>\n",
       "      <td>06</td>\n",
       "      <td>071</td>\n",
       "      <td>010422</td>\n",
       "    </tr>\n",
       "    <tr>\n",
       "      <th>1397984</th>\n",
       "      <td>69015093121</td>\n",
       "      <td>34.3</td>\n",
       "      <td>-116.16667</td>\n",
       "      <td>TWENTYNINE PALMS MC, CA US</td>\n",
       "      <td>2000</td>\n",
       "      <td>2000-01-03</td>\n",
       "      <td>48.2</td>\n",
       "      <td>35.6</td>\n",
       "      <td>55.4</td>\n",
       "      <td>2000</td>\n",
       "      <td>06</td>\n",
       "      <td>071</td>\n",
       "      <td>010432</td>\n",
       "    </tr>\n",
       "    <tr>\n",
       "      <th>1397985</th>\n",
       "      <td>69015093121</td>\n",
       "      <td>34.3</td>\n",
       "      <td>-116.16667</td>\n",
       "      <td>TWENTYNINE PALMS MC, CA US</td>\n",
       "      <td>2000</td>\n",
       "      <td>2000-01-03</td>\n",
       "      <td>48.2</td>\n",
       "      <td>35.6</td>\n",
       "      <td>55.4</td>\n",
       "      <td>2000</td>\n",
       "      <td>06</td>\n",
       "      <td>071</td>\n",
       "      <td>010410</td>\n",
       "    </tr>\n",
       "  </tbody>\n",
       "</table>\n",
       "</div>"
      ],
      "text/plain": [
       "             station  LATITUDE  LONGITUDE                        NAME  YEAR  \\\n",
       "1397981  69015093121      34.3 -116.16667  TWENTYNINE PALMS MC, CA US  2000   \n",
       "1397982  69015093121      34.3 -116.16667  TWENTYNINE PALMS MC, CA US  2000   \n",
       "1397983  69015093121      34.3 -116.16667  TWENTYNINE PALMS MC, CA US  2000   \n",
       "1397984  69015093121      34.3 -116.16667  TWENTYNINE PALMS MC, CA US  2000   \n",
       "1397985  69015093121      34.3 -116.16667  TWENTYNINE PALMS MC, CA US  2000   \n",
       "\n",
       "               DATE  TEMP   MIN   MAX  year STATEFP COUNTYFP TRACTCE  \n",
       "1397981  2000-01-03  48.2  35.6  55.4  2000      06      071  010434  \n",
       "1397982  2000-01-03  48.2  35.6  55.4  2000      06      071  010433  \n",
       "1397983  2000-01-03  48.2  35.6  55.4  2000      06      071  010422  \n",
       "1397984  2000-01-03  48.2  35.6  55.4  2000      06      071  010432  \n",
       "1397985  2000-01-03  48.2  35.6  55.4  2000      06      071  010410  "
      ]
     },
     "execution_count": 26,
     "metadata": {},
     "output_type": "execute_result"
    }
   ],
   "source": [
    "temp_station_2000 = temp_station_2000.dropna()\n",
    "temp_station_2000.head()"
   ]
  },
  {
   "cell_type": "code",
   "execution_count": 27,
   "id": "595cbe10-691b-4d2e-abeb-b6a27fc482a8",
   "metadata": {},
   "outputs": [
    {
     "data": {
      "text/plain": [
       "(29300336, 13)"
      ]
     },
     "execution_count": 27,
     "metadata": {},
     "output_type": "execute_result"
    }
   ],
   "source": [
    "temp_station_2000.shape"
   ]
  },
  {
   "cell_type": "code",
   "execution_count": 28,
   "id": "49904f51-ea89-4b97-a466-ffd77fd1df5c",
   "metadata": {},
   "outputs": [
    {
     "data": {
      "text/html": [
       "<div>\n",
       "<style scoped>\n",
       "    .dataframe tbody tr th:only-of-type {\n",
       "        vertical-align: middle;\n",
       "    }\n",
       "\n",
       "    .dataframe tbody tr th {\n",
       "        vertical-align: top;\n",
       "    }\n",
       "\n",
       "    .dataframe thead th {\n",
       "        text-align: right;\n",
       "    }\n",
       "</style>\n",
       "<table border=\"1\" class=\"dataframe\">\n",
       "  <thead>\n",
       "    <tr style=\"text-align: right;\">\n",
       "      <th></th>\n",
       "      <th>STATEFP</th>\n",
       "      <th>COUNTYFP</th>\n",
       "      <th>DATE</th>\n",
       "      <th>LATITUDE</th>\n",
       "      <th>LONGITUDE</th>\n",
       "      <th>YEAR</th>\n",
       "      <th>TEMP</th>\n",
       "      <th>MIN</th>\n",
       "      <th>MAX</th>\n",
       "      <th>year</th>\n",
       "    </tr>\n",
       "  </thead>\n",
       "  <tbody>\n",
       "    <tr>\n",
       "      <th>0</th>\n",
       "      <td>01</td>\n",
       "      <td>001</td>\n",
       "      <td>2000-01-01</td>\n",
       "      <td>32.2997</td>\n",
       "      <td>-86.407500</td>\n",
       "      <td>2000.0</td>\n",
       "      <td>61.000000</td>\n",
       "      <td>50.000000</td>\n",
       "      <td>75.900000</td>\n",
       "      <td>2000.0</td>\n",
       "    </tr>\n",
       "    <tr>\n",
       "      <th>1</th>\n",
       "      <td>01</td>\n",
       "      <td>001</td>\n",
       "      <td>2000-01-02</td>\n",
       "      <td>32.3781</td>\n",
       "      <td>-86.369382</td>\n",
       "      <td>2000.0</td>\n",
       "      <td>69.500000</td>\n",
       "      <td>61.923529</td>\n",
       "      <td>75.241176</td>\n",
       "      <td>2000.0</td>\n",
       "    </tr>\n",
       "    <tr>\n",
       "      <th>2</th>\n",
       "      <td>01</td>\n",
       "      <td>001</td>\n",
       "      <td>2000-01-03</td>\n",
       "      <td>32.3781</td>\n",
       "      <td>-86.369382</td>\n",
       "      <td>2000.0</td>\n",
       "      <td>72.429412</td>\n",
       "      <td>64.317647</td>\n",
       "      <td>80.388235</td>\n",
       "      <td>2000.0</td>\n",
       "    </tr>\n",
       "    <tr>\n",
       "      <th>3</th>\n",
       "      <td>01</td>\n",
       "      <td>001</td>\n",
       "      <td>2000-01-04</td>\n",
       "      <td>32.3781</td>\n",
       "      <td>-86.369382</td>\n",
       "      <td>2000.0</td>\n",
       "      <td>63.876471</td>\n",
       "      <td>51.576471</td>\n",
       "      <td>73.611765</td>\n",
       "      <td>2000.0</td>\n",
       "    </tr>\n",
       "    <tr>\n",
       "      <th>4</th>\n",
       "      <td>01</td>\n",
       "      <td>001</td>\n",
       "      <td>2000-01-05</td>\n",
       "      <td>32.3781</td>\n",
       "      <td>-86.369382</td>\n",
       "      <td>2000.0</td>\n",
       "      <td>43.729412</td>\n",
       "      <td>32.000000</td>\n",
       "      <td>51.758824</td>\n",
       "      <td>2000.0</td>\n",
       "    </tr>\n",
       "  </tbody>\n",
       "</table>\n",
       "</div>"
      ],
      "text/plain": [
       "  STATEFP COUNTYFP        DATE  LATITUDE  LONGITUDE    YEAR       TEMP  \\\n",
       "0      01      001  2000-01-01   32.2997 -86.407500  2000.0  61.000000   \n",
       "1      01      001  2000-01-02   32.3781 -86.369382  2000.0  69.500000   \n",
       "2      01      001  2000-01-03   32.3781 -86.369382  2000.0  72.429412   \n",
       "3      01      001  2000-01-04   32.3781 -86.369382  2000.0  63.876471   \n",
       "4      01      001  2000-01-05   32.3781 -86.369382  2000.0  43.729412   \n",
       "\n",
       "         MIN        MAX    year  \n",
       "0  50.000000  75.900000  2000.0  \n",
       "1  61.923529  75.241176  2000.0  \n",
       "2  64.317647  80.388235  2000.0  \n",
       "3  51.576471  73.611765  2000.0  \n",
       "4  32.000000  51.758824  2000.0  "
      ]
     },
     "execution_count": 28,
     "metadata": {},
     "output_type": "execute_result"
    }
   ],
   "source": [
    "temp_station_final = temp_station_2000.groupby(['STATEFP', 'COUNTYFP', 'DATE']).mean()\n",
    "temp_station_final = temp_station_final.reset_index()\n",
    "temp_station_final.head()"
   ]
  },
  {
   "cell_type": "code",
   "execution_count": 29,
   "id": "53ad4f47-0ae4-4cfb-a6ec-25404f7ded5a",
   "metadata": {},
   "outputs": [
    {
     "data": {
      "text/html": [
       "<div>\n",
       "<style scoped>\n",
       "    .dataframe tbody tr th:only-of-type {\n",
       "        vertical-align: middle;\n",
       "    }\n",
       "\n",
       "    .dataframe tbody tr th {\n",
       "        vertical-align: top;\n",
       "    }\n",
       "\n",
       "    .dataframe thead th {\n",
       "        text-align: right;\n",
       "    }\n",
       "</style>\n",
       "<table border=\"1\" class=\"dataframe\">\n",
       "  <thead>\n",
       "    <tr style=\"text-align: right;\">\n",
       "      <th></th>\n",
       "      <th>fips</th>\n",
       "      <th>date</th>\n",
       "      <th>temp</th>\n",
       "      <th>min_temp</th>\n",
       "      <th>max_temp</th>\n",
       "      <th>year</th>\n",
       "    </tr>\n",
       "  </thead>\n",
       "  <tbody>\n",
       "    <tr>\n",
       "      <th>0</th>\n",
       "      <td>01001</td>\n",
       "      <td>2000-01-01</td>\n",
       "      <td>61.000000</td>\n",
       "      <td>50.000000</td>\n",
       "      <td>75.900000</td>\n",
       "      <td>2000.0</td>\n",
       "    </tr>\n",
       "    <tr>\n",
       "      <th>1</th>\n",
       "      <td>01001</td>\n",
       "      <td>2000-01-02</td>\n",
       "      <td>69.500000</td>\n",
       "      <td>61.923529</td>\n",
       "      <td>75.241176</td>\n",
       "      <td>2000.0</td>\n",
       "    </tr>\n",
       "    <tr>\n",
       "      <th>2</th>\n",
       "      <td>01001</td>\n",
       "      <td>2000-01-03</td>\n",
       "      <td>72.429412</td>\n",
       "      <td>64.317647</td>\n",
       "      <td>80.388235</td>\n",
       "      <td>2000.0</td>\n",
       "    </tr>\n",
       "    <tr>\n",
       "      <th>3</th>\n",
       "      <td>01001</td>\n",
       "      <td>2000-01-04</td>\n",
       "      <td>63.876471</td>\n",
       "      <td>51.576471</td>\n",
       "      <td>73.611765</td>\n",
       "      <td>2000.0</td>\n",
       "    </tr>\n",
       "    <tr>\n",
       "      <th>4</th>\n",
       "      <td>01001</td>\n",
       "      <td>2000-01-05</td>\n",
       "      <td>43.729412</td>\n",
       "      <td>32.000000</td>\n",
       "      <td>51.758824</td>\n",
       "      <td>2000.0</td>\n",
       "    </tr>\n",
       "  </tbody>\n",
       "</table>\n",
       "</div>"
      ],
      "text/plain": [
       "    fips        date       temp   min_temp   max_temp    year\n",
       "0  01001  2000-01-01  61.000000  50.000000  75.900000  2000.0\n",
       "1  01001  2000-01-02  69.500000  61.923529  75.241176  2000.0\n",
       "2  01001  2000-01-03  72.429412  64.317647  80.388235  2000.0\n",
       "3  01001  2000-01-04  63.876471  51.576471  73.611765  2000.0\n",
       "4  01001  2000-01-05  43.729412  32.000000  51.758824  2000.0"
      ]
     },
     "execution_count": 29,
     "metadata": {},
     "output_type": "execute_result"
    }
   ],
   "source": [
    "temp_station_final['fips'] = temp_station_final['STATEFP'] + temp_station_final['COUNTYFP'] \n",
    "temp_station_final = temp_station_final.rename(columns = {'DATE': 'date', 'TEMP': 'temp', 'MIN': 'min_temp', 'MAX': 'max_temp'})\n",
    "temp_station_final = temp_station_final[['fips', 'date', 'temp', 'min_temp', 'max_temp', 'year']]\n",
    "temp_station_final.head()"
   ]
  },
  {
   "cell_type": "code",
   "execution_count": 30,
   "id": "af966cbc-70e6-4d28-8bb2-48fa959287f0",
   "metadata": {},
   "outputs": [
    {
     "data": {
      "text/plain": [
       "(1057314, 6)"
      ]
     },
     "execution_count": 30,
     "metadata": {},
     "output_type": "execute_result"
    }
   ],
   "source": [
    "temp_station_final.shape"
   ]
  },
  {
   "cell_type": "code",
   "execution_count": 31,
   "id": "e5f9944f-8416-43ec-a916-45831801c854",
   "metadata": {},
   "outputs": [
    {
     "data": {
      "text/plain": [
       "2925"
      ]
     },
     "execution_count": 31,
     "metadata": {},
     "output_type": "execute_result"
    }
   ],
   "source": [
    "len(temp_station_final['fips'].unique())"
   ]
  },
  {
   "cell_type": "code",
   "execution_count": 32,
   "id": "59a05927-257d-4ab8-9cee-a5a7ea03a82a",
   "metadata": {},
   "outputs": [],
   "source": [
    "temp_station_final.to_csv('daily_temp_county_level_2000.csv')"
   ]
  },
  {
   "cell_type": "markdown",
   "id": "1864b3a1-a433-43a2-adb2-8446f449c689",
   "metadata": {},
   "source": [
    "### 2001"
   ]
  },
  {
   "cell_type": "code",
   "execution_count": 33,
   "id": "71a50ddf-3524-4a63-98cc-0dc1b67810e9",
   "metadata": {},
   "outputs": [
    {
     "data": {
      "text/html": [
       "<div>\n",
       "<style scoped>\n",
       "    .dataframe tbody tr th:only-of-type {\n",
       "        vertical-align: middle;\n",
       "    }\n",
       "\n",
       "    .dataframe tbody tr th {\n",
       "        vertical-align: top;\n",
       "    }\n",
       "\n",
       "    .dataframe thead th {\n",
       "        text-align: right;\n",
       "    }\n",
       "</style>\n",
       "<table border=\"1\" class=\"dataframe\">\n",
       "  <thead>\n",
       "    <tr style=\"text-align: right;\">\n",
       "      <th></th>\n",
       "      <th>fips</th>\n",
       "      <th>date</th>\n",
       "      <th>temp</th>\n",
       "      <th>min_temp</th>\n",
       "      <th>max_temp</th>\n",
       "      <th>year</th>\n",
       "    </tr>\n",
       "  </thead>\n",
       "  <tbody>\n",
       "    <tr>\n",
       "      <th>0</th>\n",
       "      <td>01001</td>\n",
       "      <td>2001-01-01</td>\n",
       "      <td>32.100000</td>\n",
       "      <td>17.100000</td>\n",
       "      <td>41.000000</td>\n",
       "      <td>2001.0</td>\n",
       "    </tr>\n",
       "    <tr>\n",
       "      <th>1</th>\n",
       "      <td>01001</td>\n",
       "      <td>2001-01-02</td>\n",
       "      <td>30.970588</td>\n",
       "      <td>19.200000</td>\n",
       "      <td>42.694118</td>\n",
       "      <td>2001.0</td>\n",
       "    </tr>\n",
       "    <tr>\n",
       "      <th>2</th>\n",
       "      <td>01001</td>\n",
       "      <td>2001-01-03</td>\n",
       "      <td>30.488235</td>\n",
       "      <td>20.841176</td>\n",
       "      <td>42.758824</td>\n",
       "      <td>2001.0</td>\n",
       "    </tr>\n",
       "    <tr>\n",
       "      <th>3</th>\n",
       "      <td>01001</td>\n",
       "      <td>2001-01-04</td>\n",
       "      <td>36.876471</td>\n",
       "      <td>24.347059</td>\n",
       "      <td>49.882353</td>\n",
       "      <td>2001.0</td>\n",
       "    </tr>\n",
       "    <tr>\n",
       "      <th>4</th>\n",
       "      <td>01001</td>\n",
       "      <td>2001-01-05</td>\n",
       "      <td>42.917647</td>\n",
       "      <td>24.629412</td>\n",
       "      <td>60.758824</td>\n",
       "      <td>2001.0</td>\n",
       "    </tr>\n",
       "  </tbody>\n",
       "</table>\n",
       "</div>"
      ],
      "text/plain": [
       "    fips        date       temp   min_temp   max_temp    year\n",
       "0  01001  2001-01-01  32.100000  17.100000  41.000000  2001.0\n",
       "1  01001  2001-01-02  30.970588  19.200000  42.694118  2001.0\n",
       "2  01001  2001-01-03  30.488235  20.841176  42.758824  2001.0\n",
       "3  01001  2001-01-04  36.876471  24.347059  49.882353  2001.0\n",
       "4  01001  2001-01-05  42.917647  24.629412  60.758824  2001.0"
      ]
     },
     "execution_count": 33,
     "metadata": {},
     "output_type": "execute_result"
    }
   ],
   "source": [
    "temp_2001 = temp[temp['year'] == 2001]\n",
    "temp_station_2001 = temp_station[temp_station['year'] == 2001]\n",
    "temp_station_2001 = temp_2001.merge(temp_station_2001, on = ['station', 'year'], how = 'left')\n",
    "temp_station_2001 = temp_station_2001.dropna()\n",
    "temp_station_final = temp_station_2001.groupby(['STATEFP', 'COUNTYFP', 'DATE']).mean()\n",
    "temp_station_final = temp_station_final.reset_index()\n",
    "temp_station_final['fips'] = temp_station_final['STATEFP'] + temp_station_final['COUNTYFP'] \n",
    "temp_station_final = temp_station_final.rename(columns = {'DATE': 'date', 'TEMP': 'temp', 'MIN': 'min_temp', 'MAX': 'max_temp'})\n",
    "temp_station_final = temp_station_final[['fips', 'date', 'temp', 'min_temp', 'max_temp', 'year']]\n",
    "temp_station_final.head()"
   ]
  },
  {
   "cell_type": "code",
   "execution_count": 34,
   "id": "fe286eb3-8b87-4874-893b-b2c075e8f8bd",
   "metadata": {},
   "outputs": [],
   "source": [
    "temp_station_final.to_csv('daily_temp_county_level_2001.csv')"
   ]
  },
  {
   "cell_type": "markdown",
   "id": "a2b59f32-06fa-4ac9-93b8-2e28e462f129",
   "metadata": {},
   "source": [
    "### 2012"
   ]
  },
  {
   "cell_type": "code",
   "execution_count": 35,
   "id": "cbf0800b-fa95-45bc-9e64-ef1738a31c8d",
   "metadata": {},
   "outputs": [
    {
     "data": {
      "text/html": [
       "<div>\n",
       "<style scoped>\n",
       "    .dataframe tbody tr th:only-of-type {\n",
       "        vertical-align: middle;\n",
       "    }\n",
       "\n",
       "    .dataframe tbody tr th {\n",
       "        vertical-align: top;\n",
       "    }\n",
       "\n",
       "    .dataframe thead th {\n",
       "        text-align: right;\n",
       "    }\n",
       "</style>\n",
       "<table border=\"1\" class=\"dataframe\">\n",
       "  <thead>\n",
       "    <tr style=\"text-align: right;\">\n",
       "      <th></th>\n",
       "      <th>fips</th>\n",
       "      <th>date</th>\n",
       "      <th>temp</th>\n",
       "      <th>min_temp</th>\n",
       "      <th>max_temp</th>\n",
       "      <th>year</th>\n",
       "    </tr>\n",
       "  </thead>\n",
       "  <tbody>\n",
       "    <tr>\n",
       "      <th>0</th>\n",
       "      <td>01001</td>\n",
       "      <td>2002-01-01</td>\n",
       "      <td>32.600000</td>\n",
       "      <td>21.900000</td>\n",
       "      <td>42.100000</td>\n",
       "      <td>2002.0</td>\n",
       "    </tr>\n",
       "    <tr>\n",
       "      <th>1</th>\n",
       "      <td>01001</td>\n",
       "      <td>2002-01-02</td>\n",
       "      <td>35.852941</td>\n",
       "      <td>33.111765</td>\n",
       "      <td>37.676471</td>\n",
       "      <td>2002.0</td>\n",
       "    </tr>\n",
       "    <tr>\n",
       "      <th>2</th>\n",
       "      <td>01001</td>\n",
       "      <td>2002-01-03</td>\n",
       "      <td>35.100000</td>\n",
       "      <td>33.694118</td>\n",
       "      <td>37.317647</td>\n",
       "      <td>2002.0</td>\n",
       "    </tr>\n",
       "    <tr>\n",
       "      <th>3</th>\n",
       "      <td>01001</td>\n",
       "      <td>2002-01-04</td>\n",
       "      <td>33.864706</td>\n",
       "      <td>21.070588</td>\n",
       "      <td>48.011765</td>\n",
       "      <td>2002.0</td>\n",
       "    </tr>\n",
       "    <tr>\n",
       "      <th>4</th>\n",
       "      <td>01001</td>\n",
       "      <td>2002-01-05</td>\n",
       "      <td>41.276471</td>\n",
       "      <td>22.705882</td>\n",
       "      <td>58.935294</td>\n",
       "      <td>2002.0</td>\n",
       "    </tr>\n",
       "  </tbody>\n",
       "</table>\n",
       "</div>"
      ],
      "text/plain": [
       "    fips        date       temp   min_temp   max_temp    year\n",
       "0  01001  2002-01-01  32.600000  21.900000  42.100000  2002.0\n",
       "1  01001  2002-01-02  35.852941  33.111765  37.676471  2002.0\n",
       "2  01001  2002-01-03  35.100000  33.694118  37.317647  2002.0\n",
       "3  01001  2002-01-04  33.864706  21.070588  48.011765  2002.0\n",
       "4  01001  2002-01-05  41.276471  22.705882  58.935294  2002.0"
      ]
     },
     "execution_count": 35,
     "metadata": {},
     "output_type": "execute_result"
    }
   ],
   "source": [
    "temp_2002 = temp[temp['year'] == 2002]\n",
    "temp_station_2002 = temp_station[temp_station['year'] == 2002]\n",
    "temp_station_2002 = temp_2002.merge(temp_station_2002, on = ['station', 'year'], how = 'left')\n",
    "temp_station_2002 = temp_station_2002.dropna()\n",
    "temp_station_final = temp_station_2002.groupby(['STATEFP', 'COUNTYFP', 'DATE']).mean()\n",
    "temp_station_final = temp_station_final.reset_index()\n",
    "temp_station_final['fips'] = temp_station_final['STATEFP'] + temp_station_final['COUNTYFP'] \n",
    "temp_station_final = temp_station_final.rename(columns = {'DATE': 'date', 'TEMP': 'temp', 'MIN': 'min_temp', 'MAX': 'max_temp'})\n",
    "temp_station_final = temp_station_final[['fips', 'date', 'temp', 'min_temp', 'max_temp', 'year']]\n",
    "temp_station_final.head()"
   ]
  },
  {
   "cell_type": "code",
   "execution_count": 36,
   "id": "ee118279-2407-4aa8-8a01-9d46ec1d0026",
   "metadata": {},
   "outputs": [],
   "source": [
    "temp_station_final.to_csv('daily_temp_county_level_2002.csv')"
   ]
  },
  {
   "cell_type": "markdown",
   "id": "d82a35d2-8750-4ded-b839-090eb7e6fc6a",
   "metadata": {},
   "source": [
    "### 2013"
   ]
  },
  {
   "cell_type": "code",
   "execution_count": 37,
   "id": "f920376c-235a-49cc-84df-7f6b797ce456",
   "metadata": {},
   "outputs": [
    {
     "data": {
      "text/html": [
       "<div>\n",
       "<style scoped>\n",
       "    .dataframe tbody tr th:only-of-type {\n",
       "        vertical-align: middle;\n",
       "    }\n",
       "\n",
       "    .dataframe tbody tr th {\n",
       "        vertical-align: top;\n",
       "    }\n",
       "\n",
       "    .dataframe thead th {\n",
       "        text-align: right;\n",
       "    }\n",
       "</style>\n",
       "<table border=\"1\" class=\"dataframe\">\n",
       "  <thead>\n",
       "    <tr style=\"text-align: right;\">\n",
       "      <th></th>\n",
       "      <th>fips</th>\n",
       "      <th>date</th>\n",
       "      <th>temp</th>\n",
       "      <th>min_temp</th>\n",
       "      <th>max_temp</th>\n",
       "      <th>year</th>\n",
       "    </tr>\n",
       "  </thead>\n",
       "  <tbody>\n",
       "    <tr>\n",
       "      <th>0</th>\n",
       "      <td>01001</td>\n",
       "      <td>2003-01-01</td>\n",
       "      <td>53.900000</td>\n",
       "      <td>50.000000</td>\n",
       "      <td>61.000000</td>\n",
       "      <td>2003.0</td>\n",
       "    </tr>\n",
       "    <tr>\n",
       "      <th>1</th>\n",
       "      <td>01001</td>\n",
       "      <td>2003-01-02</td>\n",
       "      <td>54.100000</td>\n",
       "      <td>48.094118</td>\n",
       "      <td>66.070588</td>\n",
       "      <td>2003.0</td>\n",
       "    </tr>\n",
       "    <tr>\n",
       "      <th>2</th>\n",
       "      <td>01001</td>\n",
       "      <td>2003-01-03</td>\n",
       "      <td>41.129412</td>\n",
       "      <td>37.376471</td>\n",
       "      <td>48.188235</td>\n",
       "      <td>2003.0</td>\n",
       "    </tr>\n",
       "    <tr>\n",
       "      <th>3</th>\n",
       "      <td>01001</td>\n",
       "      <td>2003-01-04</td>\n",
       "      <td>40.300000</td>\n",
       "      <td>28.264706</td>\n",
       "      <td>51.758824</td>\n",
       "      <td>2003.0</td>\n",
       "    </tr>\n",
       "    <tr>\n",
       "      <th>4</th>\n",
       "      <td>01001</td>\n",
       "      <td>2003-01-05</td>\n",
       "      <td>50.888235</td>\n",
       "      <td>35.047059</td>\n",
       "      <td>64.376471</td>\n",
       "      <td>2003.0</td>\n",
       "    </tr>\n",
       "  </tbody>\n",
       "</table>\n",
       "</div>"
      ],
      "text/plain": [
       "    fips        date       temp   min_temp   max_temp    year\n",
       "0  01001  2003-01-01  53.900000  50.000000  61.000000  2003.0\n",
       "1  01001  2003-01-02  54.100000  48.094118  66.070588  2003.0\n",
       "2  01001  2003-01-03  41.129412  37.376471  48.188235  2003.0\n",
       "3  01001  2003-01-04  40.300000  28.264706  51.758824  2003.0\n",
       "4  01001  2003-01-05  50.888235  35.047059  64.376471  2003.0"
      ]
     },
     "execution_count": 37,
     "metadata": {},
     "output_type": "execute_result"
    }
   ],
   "source": [
    "temp_2003 = temp[temp['year'] == 2003]\n",
    "temp_station_2003 = temp_station[temp_station['year'] == 2003]\n",
    "temp_station_2003 = temp_2003.merge(temp_station_2003, on = ['station', 'year'], how = 'left')\n",
    "temp_station_2003 = temp_station_2003.dropna()\n",
    "temp_station_final = temp_station_2003.groupby(['STATEFP', 'COUNTYFP', 'DATE']).mean()\n",
    "temp_station_final = temp_station_final.reset_index()\n",
    "temp_station_final['fips'] = temp_station_final['STATEFP'] + temp_station_final['COUNTYFP'] \n",
    "temp_station_final = temp_station_final.rename(columns = {'DATE': 'date', 'TEMP': 'temp', 'MIN': 'min_temp', 'MAX': 'max_temp'})\n",
    "temp_station_final = temp_station_final[['fips', 'date', 'temp', 'min_temp', 'max_temp', 'year']]\n",
    "temp_station_final.head()"
   ]
  },
  {
   "cell_type": "code",
   "execution_count": 38,
   "id": "28387488-6f1d-4081-b094-d80530e3458f",
   "metadata": {},
   "outputs": [],
   "source": [
    "temp_station_final.to_csv('daily_temp_county_level_2003.csv')"
   ]
  },
  {
   "cell_type": "markdown",
   "id": "7619f283-860f-42c6-88a3-7538197e37a8",
   "metadata": {},
   "source": [
    "### 2004"
   ]
  },
  {
   "cell_type": "code",
   "execution_count": 39,
   "id": "fc0d3e1a-d875-49a9-aba4-ec5568f1fe33",
   "metadata": {},
   "outputs": [
    {
     "data": {
      "text/html": [
       "<div>\n",
       "<style scoped>\n",
       "    .dataframe tbody tr th:only-of-type {\n",
       "        vertical-align: middle;\n",
       "    }\n",
       "\n",
       "    .dataframe tbody tr th {\n",
       "        vertical-align: top;\n",
       "    }\n",
       "\n",
       "    .dataframe thead th {\n",
       "        text-align: right;\n",
       "    }\n",
       "</style>\n",
       "<table border=\"1\" class=\"dataframe\">\n",
       "  <thead>\n",
       "    <tr style=\"text-align: right;\">\n",
       "      <th></th>\n",
       "      <th>fips</th>\n",
       "      <th>date</th>\n",
       "      <th>temp</th>\n",
       "      <th>min_temp</th>\n",
       "      <th>max_temp</th>\n",
       "      <th>year</th>\n",
       "    </tr>\n",
       "  </thead>\n",
       "  <tbody>\n",
       "    <tr>\n",
       "      <th>0</th>\n",
       "      <td>01001</td>\n",
       "      <td>2004-01-01</td>\n",
       "      <td>43.676471</td>\n",
       "      <td>38.670588</td>\n",
       "      <td>51.123529</td>\n",
       "      <td>2004.0</td>\n",
       "    </tr>\n",
       "    <tr>\n",
       "      <th>1</th>\n",
       "      <td>01001</td>\n",
       "      <td>2004-01-02</td>\n",
       "      <td>54.100000</td>\n",
       "      <td>32.000000</td>\n",
       "      <td>69.100000</td>\n",
       "      <td>2004.0</td>\n",
       "    </tr>\n",
       "    <tr>\n",
       "      <th>2</th>\n",
       "      <td>01001</td>\n",
       "      <td>2004-01-03</td>\n",
       "      <td>71.394118</td>\n",
       "      <td>61.447059</td>\n",
       "      <td>77.000000</td>\n",
       "      <td>2004.0</td>\n",
       "    </tr>\n",
       "    <tr>\n",
       "      <th>3</th>\n",
       "      <td>01001</td>\n",
       "      <td>2004-01-04</td>\n",
       "      <td>71.076471</td>\n",
       "      <td>62.388235</td>\n",
       "      <td>78.694118</td>\n",
       "      <td>2004.0</td>\n",
       "    </tr>\n",
       "    <tr>\n",
       "      <th>4</th>\n",
       "      <td>01001</td>\n",
       "      <td>2004-01-05</td>\n",
       "      <td>61.311765</td>\n",
       "      <td>49.788235</td>\n",
       "      <td>69.876471</td>\n",
       "      <td>2004.0</td>\n",
       "    </tr>\n",
       "  </tbody>\n",
       "</table>\n",
       "</div>"
      ],
      "text/plain": [
       "    fips        date       temp   min_temp   max_temp    year\n",
       "0  01001  2004-01-01  43.676471  38.670588  51.123529  2004.0\n",
       "1  01001  2004-01-02  54.100000  32.000000  69.100000  2004.0\n",
       "2  01001  2004-01-03  71.394118  61.447059  77.000000  2004.0\n",
       "3  01001  2004-01-04  71.076471  62.388235  78.694118  2004.0\n",
       "4  01001  2004-01-05  61.311765  49.788235  69.876471  2004.0"
      ]
     },
     "execution_count": 39,
     "metadata": {},
     "output_type": "execute_result"
    }
   ],
   "source": [
    "temp_2004 = temp[temp['year'] == 2004]\n",
    "temp_station_2004 = temp_station[temp_station['year'] == 2004]\n",
    "temp_station_2004 = temp_2004.merge(temp_station_2004, on = ['station', 'year'], how = 'left')\n",
    "temp_station_2004 = temp_station_2004.dropna()\n",
    "temp_station_final = temp_station_2004.groupby(['STATEFP', 'COUNTYFP', 'DATE']).mean()\n",
    "temp_station_final = temp_station_final.reset_index()\n",
    "temp_station_final['fips'] = temp_station_final['STATEFP'] + temp_station_final['COUNTYFP'] \n",
    "temp_station_final = temp_station_final.rename(columns = {'DATE': 'date', 'TEMP': 'temp', 'MIN': 'min_temp', 'MAX': 'max_temp'})\n",
    "temp_station_final = temp_station_final[['fips', 'date', 'temp', 'min_temp', 'max_temp', 'year']]\n",
    "temp_station_final.head()"
   ]
  },
  {
   "cell_type": "code",
   "execution_count": 40,
   "id": "c14eac66-9aa6-4378-8029-b7da164b3732",
   "metadata": {},
   "outputs": [],
   "source": [
    "temp_station_final.to_csv('daily_temp_county_level_2004.csv')"
   ]
  },
  {
   "cell_type": "markdown",
   "id": "4115479e-12ce-4ca5-9a4a-c25ac07891d7",
   "metadata": {},
   "source": [
    "### 2005"
   ]
  },
  {
   "cell_type": "code",
   "execution_count": 41,
   "id": "179cb415-54c2-426c-96e7-f784559d138c",
   "metadata": {},
   "outputs": [
    {
     "data": {
      "text/html": [
       "<div>\n",
       "<style scoped>\n",
       "    .dataframe tbody tr th:only-of-type {\n",
       "        vertical-align: middle;\n",
       "    }\n",
       "\n",
       "    .dataframe tbody tr th {\n",
       "        vertical-align: top;\n",
       "    }\n",
       "\n",
       "    .dataframe thead th {\n",
       "        text-align: right;\n",
       "    }\n",
       "</style>\n",
       "<table border=\"1\" class=\"dataframe\">\n",
       "  <thead>\n",
       "    <tr style=\"text-align: right;\">\n",
       "      <th></th>\n",
       "      <th>fips</th>\n",
       "      <th>date</th>\n",
       "      <th>temp</th>\n",
       "      <th>min_temp</th>\n",
       "      <th>max_temp</th>\n",
       "      <th>year</th>\n",
       "    </tr>\n",
       "  </thead>\n",
       "  <tbody>\n",
       "    <tr>\n",
       "      <th>0</th>\n",
       "      <td>01001</td>\n",
       "      <td>2005-01-01</td>\n",
       "      <td>60.100000</td>\n",
       "      <td>48.900000</td>\n",
       "      <td>75.000000</td>\n",
       "      <td>2005.0</td>\n",
       "    </tr>\n",
       "    <tr>\n",
       "      <th>1</th>\n",
       "      <td>01001</td>\n",
       "      <td>2005-01-02</td>\n",
       "      <td>67.129412</td>\n",
       "      <td>51.717647</td>\n",
       "      <td>75.541176</td>\n",
       "      <td>2005.0</td>\n",
       "    </tr>\n",
       "    <tr>\n",
       "      <th>2</th>\n",
       "      <td>01001</td>\n",
       "      <td>2005-01-03</td>\n",
       "      <td>63.811765</td>\n",
       "      <td>50.000000</td>\n",
       "      <td>75.541176</td>\n",
       "      <td>2005.0</td>\n",
       "    </tr>\n",
       "    <tr>\n",
       "      <th>3</th>\n",
       "      <td>01001</td>\n",
       "      <td>2005-01-04</td>\n",
       "      <td>59.841176</td>\n",
       "      <td>48.176471</td>\n",
       "      <td>70.776471</td>\n",
       "      <td>2005.0</td>\n",
       "    </tr>\n",
       "    <tr>\n",
       "      <th>4</th>\n",
       "      <td>01001</td>\n",
       "      <td>2005-01-05</td>\n",
       "      <td>60.564706</td>\n",
       "      <td>48.282353</td>\n",
       "      <td>73.694118</td>\n",
       "      <td>2005.0</td>\n",
       "    </tr>\n",
       "  </tbody>\n",
       "</table>\n",
       "</div>"
      ],
      "text/plain": [
       "    fips        date       temp   min_temp   max_temp    year\n",
       "0  01001  2005-01-01  60.100000  48.900000  75.000000  2005.0\n",
       "1  01001  2005-01-02  67.129412  51.717647  75.541176  2005.0\n",
       "2  01001  2005-01-03  63.811765  50.000000  75.541176  2005.0\n",
       "3  01001  2005-01-04  59.841176  48.176471  70.776471  2005.0\n",
       "4  01001  2005-01-05  60.564706  48.282353  73.694118  2005.0"
      ]
     },
     "execution_count": 41,
     "metadata": {},
     "output_type": "execute_result"
    }
   ],
   "source": [
    "temp_2005 = temp[temp['year'] == 2005]\n",
    "temp_station_2005 = temp_station[temp_station['year'] == 2005]\n",
    "temp_station_2005 = temp_2005.merge(temp_station_2005, on = ['station', 'year'], how = 'left')\n",
    "temp_station_2005 = temp_station_2005.dropna()\n",
    "temp_station_final = temp_station_2005.groupby(['STATEFP', 'COUNTYFP', 'DATE']).mean()\n",
    "temp_station_final = temp_station_final.reset_index()\n",
    "temp_station_final['fips'] = temp_station_final['STATEFP'] + temp_station_final['COUNTYFP'] \n",
    "temp_station_final = temp_station_final.rename(columns = {'DATE': 'date', 'TEMP': 'temp', 'MIN': 'min_temp', 'MAX': 'max_temp'})\n",
    "temp_station_final = temp_station_final[['fips', 'date', 'temp', 'min_temp', 'max_temp', 'year']]\n",
    "temp_station_final.head()"
   ]
  },
  {
   "cell_type": "code",
   "execution_count": 42,
   "id": "70e04de4-ad7c-4d78-983f-25e8de1d1a0c",
   "metadata": {},
   "outputs": [],
   "source": [
    "temp_station_final.to_csv('daily_temp_county_level_2005.csv')"
   ]
  },
  {
   "cell_type": "markdown",
   "id": "42dd82a7-a43a-4407-b5b5-9bf80f6aa3ee",
   "metadata": {},
   "source": [
    "### 2006"
   ]
  },
  {
   "cell_type": "code",
   "execution_count": 22,
   "id": "3c80b924-a42c-4d0a-ada2-d5d1a177ed1b",
   "metadata": {},
   "outputs": [
    {
     "data": {
      "text/html": [
       "<div>\n",
       "<style scoped>\n",
       "    .dataframe tbody tr th:only-of-type {\n",
       "        vertical-align: middle;\n",
       "    }\n",
       "\n",
       "    .dataframe tbody tr th {\n",
       "        vertical-align: top;\n",
       "    }\n",
       "\n",
       "    .dataframe thead th {\n",
       "        text-align: right;\n",
       "    }\n",
       "</style>\n",
       "<table border=\"1\" class=\"dataframe\">\n",
       "  <thead>\n",
       "    <tr style=\"text-align: right;\">\n",
       "      <th></th>\n",
       "      <th>fips</th>\n",
       "      <th>date</th>\n",
       "      <th>temp</th>\n",
       "      <th>min_temp</th>\n",
       "      <th>max_temp</th>\n",
       "      <th>year</th>\n",
       "    </tr>\n",
       "  </thead>\n",
       "  <tbody>\n",
       "    <tr>\n",
       "      <th>0</th>\n",
       "      <td>01001</td>\n",
       "      <td>2006-01-01</td>\n",
       "      <td>56.600000</td>\n",
       "      <td>48.900000</td>\n",
       "      <td>69.100000</td>\n",
       "      <td>2006.0</td>\n",
       "    </tr>\n",
       "    <tr>\n",
       "      <th>1</th>\n",
       "      <td>01001</td>\n",
       "      <td>2006-01-02</td>\n",
       "      <td>68.900000</td>\n",
       "      <td>48.900000</td>\n",
       "      <td>81.000000</td>\n",
       "      <td>2006.0</td>\n",
       "    </tr>\n",
       "    <tr>\n",
       "      <th>2</th>\n",
       "      <td>01001</td>\n",
       "      <td>2006-01-03</td>\n",
       "      <td>57.723529</td>\n",
       "      <td>49.764706</td>\n",
       "      <td>66.352941</td>\n",
       "      <td>2006.0</td>\n",
       "    </tr>\n",
       "    <tr>\n",
       "      <th>3</th>\n",
       "      <td>01001</td>\n",
       "      <td>2006-01-04</td>\n",
       "      <td>57.147059</td>\n",
       "      <td>40.176471</td>\n",
       "      <td>73.235294</td>\n",
       "      <td>2006.0</td>\n",
       "    </tr>\n",
       "    <tr>\n",
       "      <th>4</th>\n",
       "      <td>01001</td>\n",
       "      <td>2006-01-05</td>\n",
       "      <td>55.541176</td>\n",
       "      <td>48.117647</td>\n",
       "      <td>60.529412</td>\n",
       "      <td>2006.0</td>\n",
       "    </tr>\n",
       "  </tbody>\n",
       "</table>\n",
       "</div>"
      ],
      "text/plain": [
       "    fips        date       temp   min_temp   max_temp    year\n",
       "0  01001  2006-01-01  56.600000  48.900000  69.100000  2006.0\n",
       "1  01001  2006-01-02  68.900000  48.900000  81.000000  2006.0\n",
       "2  01001  2006-01-03  57.723529  49.764706  66.352941  2006.0\n",
       "3  01001  2006-01-04  57.147059  40.176471  73.235294  2006.0\n",
       "4  01001  2006-01-05  55.541176  48.117647  60.529412  2006.0"
      ]
     },
     "execution_count": 22,
     "metadata": {},
     "output_type": "execute_result"
    }
   ],
   "source": [
    "temp_2006 = temp[temp['year'] == 2006]\n",
    "temp_station_2006 = temp_station[temp_station['year'] == 2006]\n",
    "temp_station_2006 = temp_2006.merge(temp_station_2006, on = ['station', 'year'], how = 'left')\n",
    "temp_station_2006 = temp_station_2006.dropna()\n",
    "temp_station_final = temp_station_2006.groupby(['STATEFP', 'COUNTYFP', 'DATE']).mean()\n",
    "temp_station_final = temp_station_final.reset_index()\n",
    "temp_station_final['fips'] = temp_station_final['STATEFP'] + temp_station_final['COUNTYFP'] \n",
    "temp_station_final = temp_station_final.rename(columns = {'DATE': 'date', 'TEMP': 'temp', 'MIN': 'min_temp', 'MAX': 'max_temp'})\n",
    "temp_station_final = temp_station_final[['fips', 'date', 'temp', 'min_temp', 'max_temp', 'year']]\n",
    "temp_station_final.head()"
   ]
  },
  {
   "cell_type": "code",
   "execution_count": 23,
   "id": "00121a05-1d42-495c-a40b-5bb12de5853a",
   "metadata": {},
   "outputs": [],
   "source": [
    "temp_station_final.to_csv('daily_temp_county_level_2006.csv')"
   ]
  },
  {
   "cell_type": "markdown",
   "id": "72a5605a-f9a0-46dd-a2dc-515d2e796be5",
   "metadata": {},
   "source": [
    "### 2007"
   ]
  },
  {
   "cell_type": "code",
   "execution_count": 24,
   "id": "90fa96c0-e875-4939-9143-767505ada432",
   "metadata": {},
   "outputs": [
    {
     "data": {
      "text/html": [
       "<div>\n",
       "<style scoped>\n",
       "    .dataframe tbody tr th:only-of-type {\n",
       "        vertical-align: middle;\n",
       "    }\n",
       "\n",
       "    .dataframe tbody tr th {\n",
       "        vertical-align: top;\n",
       "    }\n",
       "\n",
       "    .dataframe thead th {\n",
       "        text-align: right;\n",
       "    }\n",
       "</style>\n",
       "<table border=\"1\" class=\"dataframe\">\n",
       "  <thead>\n",
       "    <tr style=\"text-align: right;\">\n",
       "      <th></th>\n",
       "      <th>fips</th>\n",
       "      <th>date</th>\n",
       "      <th>temp</th>\n",
       "      <th>min_temp</th>\n",
       "      <th>max_temp</th>\n",
       "      <th>year</th>\n",
       "    </tr>\n",
       "  </thead>\n",
       "  <tbody>\n",
       "    <tr>\n",
       "      <th>0</th>\n",
       "      <td>01001</td>\n",
       "      <td>2007-01-01</td>\n",
       "      <td>53.600000</td>\n",
       "      <td>46.900000</td>\n",
       "      <td>72.000000</td>\n",
       "      <td>2007.0</td>\n",
       "    </tr>\n",
       "    <tr>\n",
       "      <th>1</th>\n",
       "      <td>01001</td>\n",
       "      <td>2007-01-02</td>\n",
       "      <td>43.700000</td>\n",
       "      <td>30.000000</td>\n",
       "      <td>57.900000</td>\n",
       "      <td>2007.0</td>\n",
       "    </tr>\n",
       "    <tr>\n",
       "      <th>2</th>\n",
       "      <td>01001</td>\n",
       "      <td>2007-01-03</td>\n",
       "      <td>49.984615</td>\n",
       "      <td>36.846154</td>\n",
       "      <td>57.253846</td>\n",
       "      <td>2007.0</td>\n",
       "    </tr>\n",
       "    <tr>\n",
       "      <th>3</th>\n",
       "      <td>01001</td>\n",
       "      <td>2007-01-04</td>\n",
       "      <td>59.923077</td>\n",
       "      <td>51.746154</td>\n",
       "      <td>66.253846</td>\n",
       "      <td>2007.0</td>\n",
       "    </tr>\n",
       "    <tr>\n",
       "      <th>4</th>\n",
       "      <td>01001</td>\n",
       "      <td>2007-01-05</td>\n",
       "      <td>64.684615</td>\n",
       "      <td>60.746154</td>\n",
       "      <td>68.138462</td>\n",
       "      <td>2007.0</td>\n",
       "    </tr>\n",
       "  </tbody>\n",
       "</table>\n",
       "</div>"
      ],
      "text/plain": [
       "    fips        date       temp   min_temp   max_temp    year\n",
       "0  01001  2007-01-01  53.600000  46.900000  72.000000  2007.0\n",
       "1  01001  2007-01-02  43.700000  30.000000  57.900000  2007.0\n",
       "2  01001  2007-01-03  49.984615  36.846154  57.253846  2007.0\n",
       "3  01001  2007-01-04  59.923077  51.746154  66.253846  2007.0\n",
       "4  01001  2007-01-05  64.684615  60.746154  68.138462  2007.0"
      ]
     },
     "execution_count": 24,
     "metadata": {},
     "output_type": "execute_result"
    }
   ],
   "source": [
    "temp_2007 = temp[temp['year'] == 2007]\n",
    "temp_station_2007 = temp_station[temp_station['year'] == 2007]\n",
    "temp_station_2007 = temp_2007.merge(temp_station_2007, on = ['station', 'year'], how = 'left')\n",
    "temp_station_2007 = temp_station_2007.dropna()\n",
    "temp_station_final = temp_station_2007.groupby(['STATEFP', 'COUNTYFP', 'DATE']).mean()\n",
    "temp_station_final = temp_station_final.reset_index()\n",
    "temp_station_final['fips'] = temp_station_final['STATEFP'] + temp_station_final['COUNTYFP'] \n",
    "temp_station_final = temp_station_final.rename(columns = {'DATE': 'date', 'TEMP': 'temp', 'MIN': 'min_temp', 'MAX': 'max_temp'})\n",
    "temp_station_final = temp_station_final[['fips', 'date', 'temp', 'min_temp', 'max_temp', 'year']]\n",
    "temp_station_final.head()"
   ]
  },
  {
   "cell_type": "code",
   "execution_count": 25,
   "id": "d71703af-6ce4-4cc3-ada2-eb2943a36376",
   "metadata": {},
   "outputs": [],
   "source": [
    "temp_station_final.to_csv('daily_temp_county_level_2007.csv')"
   ]
  },
  {
   "cell_type": "markdown",
   "id": "c1fdccc0-a0fa-489a-aafb-2fc4a9ece7fc",
   "metadata": {},
   "source": [
    "### 2008"
   ]
  },
  {
   "cell_type": "code",
   "execution_count": 26,
   "id": "4f49af65-3056-4ed5-9942-712ae281fe4d",
   "metadata": {},
   "outputs": [
    {
     "data": {
      "text/html": [
       "<div>\n",
       "<style scoped>\n",
       "    .dataframe tbody tr th:only-of-type {\n",
       "        vertical-align: middle;\n",
       "    }\n",
       "\n",
       "    .dataframe tbody tr th {\n",
       "        vertical-align: top;\n",
       "    }\n",
       "\n",
       "    .dataframe thead th {\n",
       "        text-align: right;\n",
       "    }\n",
       "</style>\n",
       "<table border=\"1\" class=\"dataframe\">\n",
       "  <thead>\n",
       "    <tr style=\"text-align: right;\">\n",
       "      <th></th>\n",
       "      <th>fips</th>\n",
       "      <th>date</th>\n",
       "      <th>temp</th>\n",
       "      <th>min_temp</th>\n",
       "      <th>max_temp</th>\n",
       "      <th>year</th>\n",
       "    </tr>\n",
       "  </thead>\n",
       "  <tbody>\n",
       "    <tr>\n",
       "      <th>0</th>\n",
       "      <td>01001</td>\n",
       "      <td>2008-01-01</td>\n",
       "      <td>43.917647</td>\n",
       "      <td>37.900000</td>\n",
       "      <td>60.217647</td>\n",
       "      <td>2008.0</td>\n",
       "    </tr>\n",
       "    <tr>\n",
       "      <th>1</th>\n",
       "      <td>01001</td>\n",
       "      <td>2008-01-02</td>\n",
       "      <td>32.552941</td>\n",
       "      <td>26.152941</td>\n",
       "      <td>44.758824</td>\n",
       "      <td>2008.0</td>\n",
       "    </tr>\n",
       "    <tr>\n",
       "      <th>2</th>\n",
       "      <td>01001</td>\n",
       "      <td>2008-01-03</td>\n",
       "      <td>27.805882</td>\n",
       "      <td>17.541176</td>\n",
       "      <td>41.276471</td>\n",
       "      <td>2008.0</td>\n",
       "    </tr>\n",
       "    <tr>\n",
       "      <th>3</th>\n",
       "      <td>01001</td>\n",
       "      <td>2008-01-04</td>\n",
       "      <td>32.411765</td>\n",
       "      <td>19.823529</td>\n",
       "      <td>50.782353</td>\n",
       "      <td>2008.0</td>\n",
       "    </tr>\n",
       "    <tr>\n",
       "      <th>4</th>\n",
       "      <td>01001</td>\n",
       "      <td>2008-01-05</td>\n",
       "      <td>44.058824</td>\n",
       "      <td>30.847059</td>\n",
       "      <td>63.594118</td>\n",
       "      <td>2008.0</td>\n",
       "    </tr>\n",
       "  </tbody>\n",
       "</table>\n",
       "</div>"
      ],
      "text/plain": [
       "    fips        date       temp   min_temp   max_temp    year\n",
       "0  01001  2008-01-01  43.917647  37.900000  60.217647  2008.0\n",
       "1  01001  2008-01-02  32.552941  26.152941  44.758824  2008.0\n",
       "2  01001  2008-01-03  27.805882  17.541176  41.276471  2008.0\n",
       "3  01001  2008-01-04  32.411765  19.823529  50.782353  2008.0\n",
       "4  01001  2008-01-05  44.058824  30.847059  63.594118  2008.0"
      ]
     },
     "execution_count": 26,
     "metadata": {},
     "output_type": "execute_result"
    }
   ],
   "source": [
    "temp_2008 = temp[temp['year'] == 2008]\n",
    "temp_station_2008 = temp_station[temp_station['year'] == 2008]\n",
    "temp_station_2008 = temp_2008.merge(temp_station_2008, on = ['station', 'year'], how = 'left')\n",
    "temp_station_2008 = temp_station_2008.dropna()\n",
    "temp_station_final = temp_station_2008.groupby(['STATEFP', 'COUNTYFP', 'DATE']).mean()\n",
    "temp_station_final = temp_station_final.reset_index()\n",
    "temp_station_final['fips'] = temp_station_final['STATEFP'] + temp_station_final['COUNTYFP'] \n",
    "temp_station_final = temp_station_final.rename(columns = {'DATE': 'date', 'TEMP': 'temp', 'MIN': 'min_temp', 'MAX': 'max_temp'})\n",
    "temp_station_final = temp_station_final[['fips', 'date', 'temp', 'min_temp', 'max_temp', 'year']]\n",
    "temp_station_final.head()"
   ]
  },
  {
   "cell_type": "code",
   "execution_count": 27,
   "id": "43482b25-359d-4a33-b23c-443fdeae7fa8",
   "metadata": {},
   "outputs": [],
   "source": [
    "temp_station_final.to_csv('daily_temp_county_level_2008.csv')"
   ]
  },
  {
   "cell_type": "markdown",
   "id": "c614b330-796b-4c4f-b096-22cdb8acd020",
   "metadata": {},
   "source": [
    "### 2019"
   ]
  },
  {
   "cell_type": "code",
   "execution_count": 33,
   "id": "8cad70e0-0548-4f2b-937b-1ea55041fcd8",
   "metadata": {},
   "outputs": [
    {
     "data": {
      "text/html": [
       "<div>\n",
       "<style scoped>\n",
       "    .dataframe tbody tr th:only-of-type {\n",
       "        vertical-align: middle;\n",
       "    }\n",
       "\n",
       "    .dataframe tbody tr th {\n",
       "        vertical-align: top;\n",
       "    }\n",
       "\n",
       "    .dataframe thead th {\n",
       "        text-align: right;\n",
       "    }\n",
       "</style>\n",
       "<table border=\"1\" class=\"dataframe\">\n",
       "  <thead>\n",
       "    <tr style=\"text-align: right;\">\n",
       "      <th></th>\n",
       "      <th>fips</th>\n",
       "      <th>date</th>\n",
       "      <th>temp</th>\n",
       "      <th>min_temp</th>\n",
       "      <th>max_temp</th>\n",
       "      <th>year</th>\n",
       "    </tr>\n",
       "  </thead>\n",
       "  <tbody>\n",
       "    <tr>\n",
       "      <th>0</th>\n",
       "      <td>01001</td>\n",
       "      <td>2019-01-01</td>\n",
       "      <td>65.905882</td>\n",
       "      <td>61.447059</td>\n",
       "      <td>71.770588</td>\n",
       "      <td>2019.0</td>\n",
       "    </tr>\n",
       "    <tr>\n",
       "      <th>1</th>\n",
       "      <td>01001</td>\n",
       "      <td>2019-01-02</td>\n",
       "      <td>58.700000</td>\n",
       "      <td>55.941176</td>\n",
       "      <td>62.652941</td>\n",
       "      <td>2019.0</td>\n",
       "    </tr>\n",
       "    <tr>\n",
       "      <th>2</th>\n",
       "      <td>01001</td>\n",
       "      <td>2019-01-03</td>\n",
       "      <td>56.229412</td>\n",
       "      <td>53.964706</td>\n",
       "      <td>59.347059</td>\n",
       "      <td>2019.0</td>\n",
       "    </tr>\n",
       "    <tr>\n",
       "      <th>3</th>\n",
       "      <td>01001</td>\n",
       "      <td>2019-01-04</td>\n",
       "      <td>57.547059</td>\n",
       "      <td>48.635294</td>\n",
       "      <td>63.958824</td>\n",
       "      <td>2019.0</td>\n",
       "    </tr>\n",
       "    <tr>\n",
       "      <th>4</th>\n",
       "      <td>01001</td>\n",
       "      <td>2019-01-05</td>\n",
       "      <td>49.741176</td>\n",
       "      <td>42.541176</td>\n",
       "      <td>62.058824</td>\n",
       "      <td>2019.0</td>\n",
       "    </tr>\n",
       "  </tbody>\n",
       "</table>\n",
       "</div>"
      ],
      "text/plain": [
       "    fips        date       temp   min_temp   max_temp    year\n",
       "0  01001  2019-01-01  65.905882  61.447059  71.770588  2019.0\n",
       "1  01001  2019-01-02  58.700000  55.941176  62.652941  2019.0\n",
       "2  01001  2019-01-03  56.229412  53.964706  59.347059  2019.0\n",
       "3  01001  2019-01-04  57.547059  48.635294  63.958824  2019.0\n",
       "4  01001  2019-01-05  49.741176  42.541176  62.058824  2019.0"
      ]
     },
     "execution_count": 33,
     "metadata": {},
     "output_type": "execute_result"
    }
   ],
   "source": [
    "temp_2019 = temp[temp['year'] == 2019]\n",
    "temp_station_2019 = temp_station[temp_station['year'] == 2019]\n",
    "temp_station_2019 = temp_2019.merge(temp_station_2019, on = ['station', 'year'], how = 'left')\n",
    "temp_station_2019 = temp_station_2019.dropna()\n",
    "temp_station_final = temp_station_2019.groupby(['STATEFP', 'COUNTYFP', 'DATE']).mean()\n",
    "temp_station_final = temp_station_final.reset_index()\n",
    "temp_station_final['fips'] = temp_station_final['STATEFP'] + temp_station_final['COUNTYFP'] \n",
    "temp_station_final = temp_station_final.rename(columns = {'DATE': 'date', 'TEMP': 'temp', 'MIN': 'min_temp', 'MAX': 'max_temp'})\n",
    "temp_station_final = temp_station_final[['fips', 'date', 'temp', 'min_temp', 'max_temp', 'year']]\n",
    "temp_station_final.head()"
   ]
  },
  {
   "cell_type": "code",
   "execution_count": 34,
   "id": "2029ecfa-53b9-4fd5-8ce2-63b3e962fb4b",
   "metadata": {},
   "outputs": [],
   "source": [
    "temp_station_final.to_csv('daily_temp_county_level_2019.csv')"
   ]
  },
  {
   "cell_type": "markdown",
   "id": "79a1c7af-2aa0-4664-a1e9-53f9d4c71326",
   "metadata": {},
   "source": [
    "### 2020"
   ]
  },
  {
   "cell_type": "code",
   "execution_count": 22,
   "id": "5cd5d7d1-97c0-4087-8b4f-e1cecdb0659e",
   "metadata": {},
   "outputs": [
    {
     "data": {
      "text/html": [
       "<div>\n",
       "<style scoped>\n",
       "    .dataframe tbody tr th:only-of-type {\n",
       "        vertical-align: middle;\n",
       "    }\n",
       "\n",
       "    .dataframe tbody tr th {\n",
       "        vertical-align: top;\n",
       "    }\n",
       "\n",
       "    .dataframe thead th {\n",
       "        text-align: right;\n",
       "    }\n",
       "</style>\n",
       "<table border=\"1\" class=\"dataframe\">\n",
       "  <thead>\n",
       "    <tr style=\"text-align: right;\">\n",
       "      <th></th>\n",
       "      <th>fips</th>\n",
       "      <th>date</th>\n",
       "      <th>temp</th>\n",
       "      <th>min_temp</th>\n",
       "      <th>max_temp</th>\n",
       "      <th>year</th>\n",
       "    </tr>\n",
       "  </thead>\n",
       "  <tbody>\n",
       "    <tr>\n",
       "      <th>0</th>\n",
       "      <td>01001</td>\n",
       "      <td>2020-01-01</td>\n",
       "      <td>42.800000</td>\n",
       "      <td>30.729412</td>\n",
       "      <td>57.023529</td>\n",
       "      <td>2020.0</td>\n",
       "    </tr>\n",
       "    <tr>\n",
       "      <th>1</th>\n",
       "      <td>01001</td>\n",
       "      <td>2020-01-02</td>\n",
       "      <td>51.723529</td>\n",
       "      <td>43.970588</td>\n",
       "      <td>64.241176</td>\n",
       "      <td>2020.0</td>\n",
       "    </tr>\n",
       "    <tr>\n",
       "      <th>2</th>\n",
       "      <td>01001</td>\n",
       "      <td>2020-01-03</td>\n",
       "      <td>65.823529</td>\n",
       "      <td>59.435294</td>\n",
       "      <td>71.370588</td>\n",
       "      <td>2020.0</td>\n",
       "    </tr>\n",
       "    <tr>\n",
       "      <th>3</th>\n",
       "      <td>01001</td>\n",
       "      <td>2020-01-04</td>\n",
       "      <td>57.464706</td>\n",
       "      <td>49.864706</td>\n",
       "      <td>61.829412</td>\n",
       "      <td>2020.0</td>\n",
       "    </tr>\n",
       "    <tr>\n",
       "      <th>4</th>\n",
       "      <td>01001</td>\n",
       "      <td>2020-01-05</td>\n",
       "      <td>43.417647</td>\n",
       "      <td>30.694118</td>\n",
       "      <td>57.535294</td>\n",
       "      <td>2020.0</td>\n",
       "    </tr>\n",
       "  </tbody>\n",
       "</table>\n",
       "</div>"
      ],
      "text/plain": [
       "    fips        date       temp   min_temp   max_temp    year\n",
       "0  01001  2020-01-01  42.800000  30.729412  57.023529  2020.0\n",
       "1  01001  2020-01-02  51.723529  43.970588  64.241176  2020.0\n",
       "2  01001  2020-01-03  65.823529  59.435294  71.370588  2020.0\n",
       "3  01001  2020-01-04  57.464706  49.864706  61.829412  2020.0\n",
       "4  01001  2020-01-05  43.417647  30.694118  57.535294  2020.0"
      ]
     },
     "execution_count": 22,
     "metadata": {},
     "output_type": "execute_result"
    }
   ],
   "source": [
    "temp_2020 = temp[temp['year'] == 2020]\n",
    "temp_station_2020 = temp_station[temp_station['year'] == 2020]\n",
    "temp_station_2020 = temp_2020.merge(temp_station_2020, on = ['station', 'year'], how = 'left')\n",
    "temp_station_2020 = temp_station_2020.dropna()\n",
    "temp_station_final = temp_station_2020.groupby(['STATEFP', 'COUNTYFP', 'DATE']).mean()\n",
    "temp_station_final = temp_station_final.reset_index()\n",
    "temp_station_final['fips'] = temp_station_final['STATEFP'] + temp_station_final['COUNTYFP'] \n",
    "temp_station_final = temp_station_final.rename(columns = {'DATE': 'date', 'TEMP': 'temp', 'MIN': 'min_temp', 'MAX': 'max_temp'})\n",
    "temp_station_final = temp_station_final[['fips', 'date', 'temp', 'min_temp', 'max_temp', 'year']]\n",
    "temp_station_final.head()"
   ]
  },
  {
   "cell_type": "code",
   "execution_count": 23,
   "id": "2545aef9-92b0-49dd-bbb4-185cafdec828",
   "metadata": {},
   "outputs": [],
   "source": [
    "temp_station_final.to_csv('daily_temp_county_level_2020.csv')"
   ]
  },
  {
   "cell_type": "markdown",
   "id": "f05ab71b-61e6-4c7b-91aa-1affd98c9fef",
   "metadata": {},
   "source": [
    "### 2009"
   ]
  },
  {
   "cell_type": "code",
   "execution_count": 45,
   "id": "ada48667-a9e7-466d-b7fe-8af346efd2e7",
   "metadata": {},
   "outputs": [
    {
     "data": {
      "text/html": [
       "<div>\n",
       "<style scoped>\n",
       "    .dataframe tbody tr th:only-of-type {\n",
       "        vertical-align: middle;\n",
       "    }\n",
       "\n",
       "    .dataframe tbody tr th {\n",
       "        vertical-align: top;\n",
       "    }\n",
       "\n",
       "    .dataframe thead th {\n",
       "        text-align: right;\n",
       "    }\n",
       "</style>\n",
       "<table border=\"1\" class=\"dataframe\">\n",
       "  <thead>\n",
       "    <tr style=\"text-align: right;\">\n",
       "      <th></th>\n",
       "      <th>fips</th>\n",
       "      <th>date</th>\n",
       "      <th>temp</th>\n",
       "      <th>min_temp</th>\n",
       "      <th>max_temp</th>\n",
       "      <th>year</th>\n",
       "    </tr>\n",
       "  </thead>\n",
       "  <tbody>\n",
       "    <tr>\n",
       "      <th>0</th>\n",
       "      <td>01001</td>\n",
       "      <td>2009-01-01</td>\n",
       "      <td>41.323529</td>\n",
       "      <td>34.311765</td>\n",
       "      <td>49.282353</td>\n",
       "      <td>2009.0</td>\n",
       "    </tr>\n",
       "    <tr>\n",
       "      <th>1</th>\n",
       "      <td>01001</td>\n",
       "      <td>2009-01-02</td>\n",
       "      <td>51.400000</td>\n",
       "      <td>44.520000</td>\n",
       "      <td>61.340000</td>\n",
       "      <td>2009.0</td>\n",
       "    </tr>\n",
       "    <tr>\n",
       "      <th>2</th>\n",
       "      <td>01001</td>\n",
       "      <td>2009-01-03</td>\n",
       "      <td>65.670588</td>\n",
       "      <td>58.135294</td>\n",
       "      <td>72.923529</td>\n",
       "      <td>2009.0</td>\n",
       "    </tr>\n",
       "    <tr>\n",
       "      <th>3</th>\n",
       "      <td>01001</td>\n",
       "      <td>2009-01-04</td>\n",
       "      <td>64.529412</td>\n",
       "      <td>59.023529</td>\n",
       "      <td>69.358824</td>\n",
       "      <td>2009.0</td>\n",
       "    </tr>\n",
       "    <tr>\n",
       "      <th>4</th>\n",
       "      <td>01001</td>\n",
       "      <td>2009-01-05</td>\n",
       "      <td>63.382353</td>\n",
       "      <td>60.852941</td>\n",
       "      <td>66.270588</td>\n",
       "      <td>2009.0</td>\n",
       "    </tr>\n",
       "  </tbody>\n",
       "</table>\n",
       "</div>"
      ],
      "text/plain": [
       "    fips        date       temp   min_temp   max_temp    year\n",
       "0  01001  2009-01-01  41.323529  34.311765  49.282353  2009.0\n",
       "1  01001  2009-01-02  51.400000  44.520000  61.340000  2009.0\n",
       "2  01001  2009-01-03  65.670588  58.135294  72.923529  2009.0\n",
       "3  01001  2009-01-04  64.529412  59.023529  69.358824  2009.0\n",
       "4  01001  2009-01-05  63.382353  60.852941  66.270588  2009.0"
      ]
     },
     "execution_count": 45,
     "metadata": {},
     "output_type": "execute_result"
    }
   ],
   "source": [
    "temp_2009 = temp[temp['year'] == 2009]\n",
    "temp_station_2009 = temp_station[temp_station['year'] == 2009]\n",
    "temp_station_2009 = temp_2009.merge(temp_station_2009, on = ['station', 'year'], how = 'left')\n",
    "temp_station_2009 = temp_station_2009.dropna()\n",
    "temp_station_final = temp_station_2009.groupby(['STATEFP', 'COUNTYFP', 'DATE']).mean()\n",
    "temp_station_final = temp_station_final.reset_index()\n",
    "temp_station_final['fips'] = temp_station_final['STATEFP'] + temp_station_final['COUNTYFP'] \n",
    "temp_station_final = temp_station_final.rename(columns = {'DATE': 'date', 'TEMP': 'temp', 'MIN': 'min_temp', 'MAX': 'max_temp'})\n",
    "temp_station_final = temp_station_final[['fips', 'date', 'temp', 'min_temp', 'max_temp', 'year']]\n",
    "temp_station_final.head()"
   ]
  },
  {
   "cell_type": "code",
   "execution_count": 46,
   "id": "8aa2c755-a14a-4fee-87c9-b653b2c558ae",
   "metadata": {},
   "outputs": [],
   "source": [
    "temp_station_final.to_csv('daily_temp_county_level_2009.csv')"
   ]
  },
  {
   "cell_type": "code",
   "execution_count": null,
   "id": "4c2e9fd4-b940-4ebf-85b9-a76f15127f15",
   "metadata": {},
   "outputs": [],
   "source": []
  }
 ],
 "metadata": {
  "kernelspec": {
   "display_name": "MyEnv",
   "language": "python",
   "name": "myenv"
  },
  "language_info": {
   "codemirror_mode": {
    "name": "ipython",
    "version": 3
   },
   "file_extension": ".py",
   "mimetype": "text/x-python",
   "name": "python",
   "nbconvert_exporter": "python",
   "pygments_lexer": "ipython3",
   "version": "3.7.11"
  }
 },
 "nbformat": 4,
 "nbformat_minor": 5
}
